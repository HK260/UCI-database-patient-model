{
 "cells": [
  {
   "cell_type": "code",
   "execution_count": 1,
   "id": "22ea75b7-9fa8-4f41-a086-bdcdd04cb93d",
   "metadata": {},
   "outputs": [],
   "source": [
    "import numpy as np\n",
    "import pandas as pd\n",
    "from sklearn.model_selection import StratifiedKFold, train_test_split, GridSearchCV, cross_val_score\n",
    "from sklearn.ensemble import RandomForestClassifier\n",
    "from sklearn.utils import class_weight\n",
    "from sklearn.metrics import classification_report\n",
    "import joblib\n",
    "\n",
    "data=pd.read_csv('Data-set-cleaned.csv')\n",
    "\n",
    "# Separate features and target\n",
    "X = data.drop('readmitted', axis=1)\n",
    "y = data['readmitted']\n",
    "\n",
    "# Handling class imbalance\n",
    "class_weights = class_weight.compute_class_weight('balanced', classes=np.unique(y), y=y)\n",
    "class_weights = dict(enumerate(class_weights))\n",
    "\n",
    "# Split the dataset into a training set and a testing set\n",
    "X_train, X_test, y_train, y_test = train_test_split(X, y, test_size=0.3, random_state=42, stratify=y)"
   ]
  },
  {
   "cell_type": "code",
   "execution_count": 3,
   "id": "1fdfa7b8-641c-41de-9bf3-f4ef97bc4838",
   "metadata": {},
   "outputs": [
    {
     "name": "stdout",
     "output_type": "stream",
     "text": [
      "Fitting 5 folds for each of 27 candidates, totalling 135 fits\n",
      "Classification Report for Random Forest:\n",
      "              precision    recall  f1-score   support\n",
      "\n",
      "           0       0.91      0.72      0.81     25785\n",
      "           1       0.18      0.48      0.26      3336\n",
      "\n",
      "    accuracy                           0.69     29121\n",
      "   macro avg       0.55      0.60      0.53     29121\n",
      "weighted avg       0.83      0.69      0.74     29121\n",
      "\n",
      "Random Forest 10-fold CV Accuracy: 0.70 (+/- 0.01)\n"
     ]
    },
    {
     "data": {
      "text/plain": [
       "['best_random_forest_model.pkl']"
      ]
     },
     "execution_count": 3,
     "metadata": {},
     "output_type": "execute_result"
    }
   ],
   "source": [
    "# Define the Random Forest model with GridSearchCV\n",
    "rf = RandomForestClassifier(class_weight=class_weights)\n",
    "param_grid = {\n",
    "     'n_estimators': [50, 100, 200],\n",
    "    'max_depth': [10, 20, 30],\n",
    "    'min_samples_split': [2, 5, 10]\n",
    "}\n",
    "\n",
    "grid_search = GridSearchCV(estimator=rf, param_grid=param_grid, cv=StratifiedKFold(n_splits=5), scoring='f1_macro',verbose=1)\n",
    "grid_search.fit(X_train, y_train)\n",
    "\n",
    "# Best parameters and estimator\n",
    "best_rf = grid_search.best_estimator_\n",
    "\n",
    "# Predict on the test set using the best estimator\n",
    "y_pred_rf = best_rf.predict(X_test)\n",
    "\n",
    "# Print classification report for Random Forest\n",
    "print(\"Classification Report for Random Forest:\")\n",
    "print(classification_report(y_test, y_pred_rf))\n",
    "\n",
    "# Evaluate the best model using cross-validation\n",
    "rf_scores = cross_val_score(best_rf, X_train, y_train, cv=10, scoring='accuracy')\n",
    "\n",
    "# Print results\n",
    "print(\"Random Forest 10-fold CV Accuracy: %0.2f (+/- %0.2f)\" % (rf_scores.mean(), rf_scores.std() * 2))\n",
    "\n",
    "# Save the best model\n",
    "joblib.dump(best_rf, 'best_random_forest_model.pkl')"
   ]
  },
  {
   "cell_type": "code",
   "execution_count": null,
   "id": "414cb4c0-d00a-4227-8eb9-9dd94d060818",
   "metadata": {},
   "outputs": [],
   "source": []
  }
 ],
 "metadata": {
  "kernelspec": {
   "display_name": "Python 3 (ipykernel)",
   "language": "python",
   "name": "python3"
  },
  "language_info": {
   "codemirror_mode": {
    "name": "ipython",
    "version": 3
   },
   "file_extension": ".py",
   "mimetype": "text/x-python",
   "name": "python",
   "nbconvert_exporter": "python",
   "pygments_lexer": "ipython3",
   "version": "3.11.7"
  }
 },
 "nbformat": 4,
 "nbformat_minor": 5
}
