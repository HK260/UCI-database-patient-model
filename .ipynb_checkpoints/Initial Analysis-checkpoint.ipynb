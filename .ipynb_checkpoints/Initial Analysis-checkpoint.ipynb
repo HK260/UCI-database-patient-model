{
 "cells": [
  {
   "cell_type": "markdown",
   "metadata": {},
   "source": [
    "The purpose of this study is to propose a prediction model for 30-day unplanned readmission among diabetes patients in US hospitals. The analysis will be based on risk factors such as a patient’s demographics, admission details, diagnosis, and medical data. In a broader sense, the goal of the study is to allow health centers to better anticipate and address unplanned readmissions while improving their quality of care and cost efficiency."
   ]
  },
  {
   "cell_type": "markdown",
   "metadata": {},
   "source": [
    "### Import Libraries"
   ]
  },
  {
   "cell_type": "code",
   "execution_count": 110,
   "metadata": {},
   "outputs": [],
   "source": [
    "import pandas as pd\n",
    "import numpy as np\n",
    "import matplotlib.pyplot as plt\n",
    "import seaborn as sns\n",
    "import scipy.stats as stats\n",
    "import os\n",
    "import warnings\n",
    "warnings.filterwarnings(\"ignore\")\n",
    "\n",
    "import statsmodels.api as sm\n",
    "from statsmodels.stats.anova import anova_lm\n",
    "import scipy.stats as stats\n",
    "import matplotlib.pyplot as plt\n",
    "from sklearn.preprocessing import StandardScaler, PowerTransformer, LabelEncoder, OneHotEncoder, MinMaxScaler\n",
    "pd.set_option('display.max_columns', None)\n",
    "pd.set_option('display.max_rows', None)"
   ]
  },
  {
   "cell_type": "markdown",
   "metadata": {},
   "source": [
    "### Import dataset"
   ]
  },
  {
   "cell_type": "code",
   "execution_count": 111,
   "metadata": {},
   "outputs": [
    {
     "data": {
      "text/html": [
       "<div>\n",
       "<style scoped>\n",
       "    .dataframe tbody tr th:only-of-type {\n",
       "        vertical-align: middle;\n",
       "    }\n",
       "\n",
       "    .dataframe tbody tr th {\n",
       "        vertical-align: top;\n",
       "    }\n",
       "\n",
       "    .dataframe thead th {\n",
       "        text-align: right;\n",
       "    }\n",
       "</style>\n",
       "<table border=\"1\" class=\"dataframe\">\n",
       "  <thead>\n",
       "    <tr style=\"text-align: right;\">\n",
       "      <th></th>\n",
       "      <th>encounter_id</th>\n",
       "      <th>patient_nbr</th>\n",
       "      <th>race</th>\n",
       "      <th>gender</th>\n",
       "      <th>age</th>\n",
       "      <th>weight</th>\n",
       "      <th>admission_type_id</th>\n",
       "      <th>discharge_disposition_id</th>\n",
       "      <th>admission_source_id</th>\n",
       "      <th>time_in_hospital</th>\n",
       "      <th>payer_code</th>\n",
       "      <th>medical_specialty</th>\n",
       "      <th>num_lab_procedures</th>\n",
       "      <th>num_procedures</th>\n",
       "      <th>num_medications</th>\n",
       "      <th>number_outpatient</th>\n",
       "      <th>number_emergency</th>\n",
       "      <th>number_inpatient</th>\n",
       "      <th>diag_1</th>\n",
       "      <th>diag_2</th>\n",
       "      <th>diag_3</th>\n",
       "      <th>number_diagnoses</th>\n",
       "      <th>max_glu_serum</th>\n",
       "      <th>A1Cresult</th>\n",
       "      <th>metformin</th>\n",
       "      <th>repaglinide</th>\n",
       "      <th>nateglinide</th>\n",
       "      <th>chlorpropamide</th>\n",
       "      <th>glimepiride</th>\n",
       "      <th>acetohexamide</th>\n",
       "      <th>glipizide</th>\n",
       "      <th>glyburide</th>\n",
       "      <th>tolbutamide</th>\n",
       "      <th>pioglitazone</th>\n",
       "      <th>rosiglitazone</th>\n",
       "      <th>acarbose</th>\n",
       "      <th>miglitol</th>\n",
       "      <th>troglitazone</th>\n",
       "      <th>tolazamide</th>\n",
       "      <th>examide</th>\n",
       "      <th>citoglipton</th>\n",
       "      <th>insulin</th>\n",
       "      <th>glyburide-metformin</th>\n",
       "      <th>glipizide-metformin</th>\n",
       "      <th>glimepiride-pioglitazone</th>\n",
       "      <th>metformin-rosiglitazone</th>\n",
       "      <th>metformin-pioglitazone</th>\n",
       "      <th>change</th>\n",
       "      <th>diabetesMed</th>\n",
       "      <th>readmitted</th>\n",
       "    </tr>\n",
       "  </thead>\n",
       "  <tbody>\n",
       "    <tr>\n",
       "      <th>0</th>\n",
       "      <td>2278392</td>\n",
       "      <td>8222157</td>\n",
       "      <td>Caucasian</td>\n",
       "      <td>Female</td>\n",
       "      <td>[0-10)</td>\n",
       "      <td>?</td>\n",
       "      <td>6</td>\n",
       "      <td>25</td>\n",
       "      <td>1</td>\n",
       "      <td>1</td>\n",
       "      <td>?</td>\n",
       "      <td>Pediatrics-Endocrinology</td>\n",
       "      <td>41</td>\n",
       "      <td>0</td>\n",
       "      <td>1</td>\n",
       "      <td>0</td>\n",
       "      <td>0</td>\n",
       "      <td>0</td>\n",
       "      <td>250.83</td>\n",
       "      <td>?</td>\n",
       "      <td>?</td>\n",
       "      <td>1</td>\n",
       "      <td>NaN</td>\n",
       "      <td>NaN</td>\n",
       "      <td>No</td>\n",
       "      <td>No</td>\n",
       "      <td>No</td>\n",
       "      <td>No</td>\n",
       "      <td>No</td>\n",
       "      <td>No</td>\n",
       "      <td>No</td>\n",
       "      <td>No</td>\n",
       "      <td>No</td>\n",
       "      <td>No</td>\n",
       "      <td>No</td>\n",
       "      <td>No</td>\n",
       "      <td>No</td>\n",
       "      <td>No</td>\n",
       "      <td>No</td>\n",
       "      <td>No</td>\n",
       "      <td>No</td>\n",
       "      <td>No</td>\n",
       "      <td>No</td>\n",
       "      <td>No</td>\n",
       "      <td>No</td>\n",
       "      <td>No</td>\n",
       "      <td>No</td>\n",
       "      <td>No</td>\n",
       "      <td>No</td>\n",
       "      <td>NO</td>\n",
       "    </tr>\n",
       "    <tr>\n",
       "      <th>1</th>\n",
       "      <td>149190</td>\n",
       "      <td>55629189</td>\n",
       "      <td>Caucasian</td>\n",
       "      <td>Female</td>\n",
       "      <td>[10-20)</td>\n",
       "      <td>?</td>\n",
       "      <td>1</td>\n",
       "      <td>1</td>\n",
       "      <td>7</td>\n",
       "      <td>3</td>\n",
       "      <td>?</td>\n",
       "      <td>?</td>\n",
       "      <td>59</td>\n",
       "      <td>0</td>\n",
       "      <td>18</td>\n",
       "      <td>0</td>\n",
       "      <td>0</td>\n",
       "      <td>0</td>\n",
       "      <td>276</td>\n",
       "      <td>250.01</td>\n",
       "      <td>255</td>\n",
       "      <td>9</td>\n",
       "      <td>NaN</td>\n",
       "      <td>NaN</td>\n",
       "      <td>No</td>\n",
       "      <td>No</td>\n",
       "      <td>No</td>\n",
       "      <td>No</td>\n",
       "      <td>No</td>\n",
       "      <td>No</td>\n",
       "      <td>No</td>\n",
       "      <td>No</td>\n",
       "      <td>No</td>\n",
       "      <td>No</td>\n",
       "      <td>No</td>\n",
       "      <td>No</td>\n",
       "      <td>No</td>\n",
       "      <td>No</td>\n",
       "      <td>No</td>\n",
       "      <td>No</td>\n",
       "      <td>No</td>\n",
       "      <td>Up</td>\n",
       "      <td>No</td>\n",
       "      <td>No</td>\n",
       "      <td>No</td>\n",
       "      <td>No</td>\n",
       "      <td>No</td>\n",
       "      <td>Ch</td>\n",
       "      <td>Yes</td>\n",
       "      <td>&gt;30</td>\n",
       "    </tr>\n",
       "    <tr>\n",
       "      <th>2</th>\n",
       "      <td>64410</td>\n",
       "      <td>86047875</td>\n",
       "      <td>AfricanAmerican</td>\n",
       "      <td>Female</td>\n",
       "      <td>[20-30)</td>\n",
       "      <td>?</td>\n",
       "      <td>1</td>\n",
       "      <td>1</td>\n",
       "      <td>7</td>\n",
       "      <td>2</td>\n",
       "      <td>?</td>\n",
       "      <td>?</td>\n",
       "      <td>11</td>\n",
       "      <td>5</td>\n",
       "      <td>13</td>\n",
       "      <td>2</td>\n",
       "      <td>0</td>\n",
       "      <td>1</td>\n",
       "      <td>648</td>\n",
       "      <td>250</td>\n",
       "      <td>V27</td>\n",
       "      <td>6</td>\n",
       "      <td>NaN</td>\n",
       "      <td>NaN</td>\n",
       "      <td>No</td>\n",
       "      <td>No</td>\n",
       "      <td>No</td>\n",
       "      <td>No</td>\n",
       "      <td>No</td>\n",
       "      <td>No</td>\n",
       "      <td>Steady</td>\n",
       "      <td>No</td>\n",
       "      <td>No</td>\n",
       "      <td>No</td>\n",
       "      <td>No</td>\n",
       "      <td>No</td>\n",
       "      <td>No</td>\n",
       "      <td>No</td>\n",
       "      <td>No</td>\n",
       "      <td>No</td>\n",
       "      <td>No</td>\n",
       "      <td>No</td>\n",
       "      <td>No</td>\n",
       "      <td>No</td>\n",
       "      <td>No</td>\n",
       "      <td>No</td>\n",
       "      <td>No</td>\n",
       "      <td>No</td>\n",
       "      <td>Yes</td>\n",
       "      <td>NO</td>\n",
       "    </tr>\n",
       "    <tr>\n",
       "      <th>3</th>\n",
       "      <td>500364</td>\n",
       "      <td>82442376</td>\n",
       "      <td>Caucasian</td>\n",
       "      <td>Male</td>\n",
       "      <td>[30-40)</td>\n",
       "      <td>?</td>\n",
       "      <td>1</td>\n",
       "      <td>1</td>\n",
       "      <td>7</td>\n",
       "      <td>2</td>\n",
       "      <td>?</td>\n",
       "      <td>?</td>\n",
       "      <td>44</td>\n",
       "      <td>1</td>\n",
       "      <td>16</td>\n",
       "      <td>0</td>\n",
       "      <td>0</td>\n",
       "      <td>0</td>\n",
       "      <td>8</td>\n",
       "      <td>250.43</td>\n",
       "      <td>403</td>\n",
       "      <td>7</td>\n",
       "      <td>NaN</td>\n",
       "      <td>NaN</td>\n",
       "      <td>No</td>\n",
       "      <td>No</td>\n",
       "      <td>No</td>\n",
       "      <td>No</td>\n",
       "      <td>No</td>\n",
       "      <td>No</td>\n",
       "      <td>No</td>\n",
       "      <td>No</td>\n",
       "      <td>No</td>\n",
       "      <td>No</td>\n",
       "      <td>No</td>\n",
       "      <td>No</td>\n",
       "      <td>No</td>\n",
       "      <td>No</td>\n",
       "      <td>No</td>\n",
       "      <td>No</td>\n",
       "      <td>No</td>\n",
       "      <td>Up</td>\n",
       "      <td>No</td>\n",
       "      <td>No</td>\n",
       "      <td>No</td>\n",
       "      <td>No</td>\n",
       "      <td>No</td>\n",
       "      <td>Ch</td>\n",
       "      <td>Yes</td>\n",
       "      <td>NO</td>\n",
       "    </tr>\n",
       "    <tr>\n",
       "      <th>4</th>\n",
       "      <td>16680</td>\n",
       "      <td>42519267</td>\n",
       "      <td>Caucasian</td>\n",
       "      <td>Male</td>\n",
       "      <td>[40-50)</td>\n",
       "      <td>?</td>\n",
       "      <td>1</td>\n",
       "      <td>1</td>\n",
       "      <td>7</td>\n",
       "      <td>1</td>\n",
       "      <td>?</td>\n",
       "      <td>?</td>\n",
       "      <td>51</td>\n",
       "      <td>0</td>\n",
       "      <td>8</td>\n",
       "      <td>0</td>\n",
       "      <td>0</td>\n",
       "      <td>0</td>\n",
       "      <td>197</td>\n",
       "      <td>157</td>\n",
       "      <td>250</td>\n",
       "      <td>5</td>\n",
       "      <td>NaN</td>\n",
       "      <td>NaN</td>\n",
       "      <td>No</td>\n",
       "      <td>No</td>\n",
       "      <td>No</td>\n",
       "      <td>No</td>\n",
       "      <td>No</td>\n",
       "      <td>No</td>\n",
       "      <td>Steady</td>\n",
       "      <td>No</td>\n",
       "      <td>No</td>\n",
       "      <td>No</td>\n",
       "      <td>No</td>\n",
       "      <td>No</td>\n",
       "      <td>No</td>\n",
       "      <td>No</td>\n",
       "      <td>No</td>\n",
       "      <td>No</td>\n",
       "      <td>No</td>\n",
       "      <td>Steady</td>\n",
       "      <td>No</td>\n",
       "      <td>No</td>\n",
       "      <td>No</td>\n",
       "      <td>No</td>\n",
       "      <td>No</td>\n",
       "      <td>Ch</td>\n",
       "      <td>Yes</td>\n",
       "      <td>NO</td>\n",
       "    </tr>\n",
       "  </tbody>\n",
       "</table>\n",
       "</div>"
      ],
      "text/plain": [
       "   encounter_id  patient_nbr             race  gender      age weight  \\\n",
       "0       2278392      8222157        Caucasian  Female   [0-10)      ?   \n",
       "1        149190     55629189        Caucasian  Female  [10-20)      ?   \n",
       "2         64410     86047875  AfricanAmerican  Female  [20-30)      ?   \n",
       "3        500364     82442376        Caucasian    Male  [30-40)      ?   \n",
       "4         16680     42519267        Caucasian    Male  [40-50)      ?   \n",
       "\n",
       "   admission_type_id  discharge_disposition_id  admission_source_id  \\\n",
       "0                  6                        25                    1   \n",
       "1                  1                         1                    7   \n",
       "2                  1                         1                    7   \n",
       "3                  1                         1                    7   \n",
       "4                  1                         1                    7   \n",
       "\n",
       "   time_in_hospital payer_code         medical_specialty  num_lab_procedures  \\\n",
       "0                 1          ?  Pediatrics-Endocrinology                  41   \n",
       "1                 3          ?                         ?                  59   \n",
       "2                 2          ?                         ?                  11   \n",
       "3                 2          ?                         ?                  44   \n",
       "4                 1          ?                         ?                  51   \n",
       "\n",
       "   num_procedures  num_medications  number_outpatient  number_emergency  \\\n",
       "0               0                1                  0                 0   \n",
       "1               0               18                  0                 0   \n",
       "2               5               13                  2                 0   \n",
       "3               1               16                  0                 0   \n",
       "4               0                8                  0                 0   \n",
       "\n",
       "   number_inpatient  diag_1  diag_2 diag_3  number_diagnoses max_glu_serum  \\\n",
       "0                 0  250.83       ?      ?                 1           NaN   \n",
       "1                 0     276  250.01    255                 9           NaN   \n",
       "2                 1     648     250    V27                 6           NaN   \n",
       "3                 0       8  250.43    403                 7           NaN   \n",
       "4                 0     197     157    250                 5           NaN   \n",
       "\n",
       "  A1Cresult metformin repaglinide nateglinide chlorpropamide glimepiride  \\\n",
       "0       NaN        No          No          No             No          No   \n",
       "1       NaN        No          No          No             No          No   \n",
       "2       NaN        No          No          No             No          No   \n",
       "3       NaN        No          No          No             No          No   \n",
       "4       NaN        No          No          No             No          No   \n",
       "\n",
       "  acetohexamide glipizide glyburide tolbutamide pioglitazone rosiglitazone  \\\n",
       "0            No        No        No          No           No            No   \n",
       "1            No        No        No          No           No            No   \n",
       "2            No    Steady        No          No           No            No   \n",
       "3            No        No        No          No           No            No   \n",
       "4            No    Steady        No          No           No            No   \n",
       "\n",
       "  acarbose miglitol troglitazone tolazamide examide citoglipton insulin  \\\n",
       "0       No       No           No         No      No          No      No   \n",
       "1       No       No           No         No      No          No      Up   \n",
       "2       No       No           No         No      No          No      No   \n",
       "3       No       No           No         No      No          No      Up   \n",
       "4       No       No           No         No      No          No  Steady   \n",
       "\n",
       "  glyburide-metformin glipizide-metformin glimepiride-pioglitazone  \\\n",
       "0                  No                  No                       No   \n",
       "1                  No                  No                       No   \n",
       "2                  No                  No                       No   \n",
       "3                  No                  No                       No   \n",
       "4                  No                  No                       No   \n",
       "\n",
       "  metformin-rosiglitazone metformin-pioglitazone change diabetesMed readmitted  \n",
       "0                      No                     No     No          No         NO  \n",
       "1                      No                     No     Ch         Yes        >30  \n",
       "2                      No                     No     No         Yes         NO  \n",
       "3                      No                     No     Ch         Yes         NO  \n",
       "4                      No                     No     Ch         Yes         NO  "
      ]
     },
     "execution_count": 111,
     "metadata": {},
     "output_type": "execute_result"
    }
   ],
   "source": [
    "df = pd.read_csv('diabetic_data.csv')\n",
    "df.head()"
   ]
  },
  {
   "cell_type": "markdown",
   "metadata": {},
   "source": [
    "### Data exploration and Cleaning\n",
    "Cleaning tasks such as dropping bad data, dealing with missing values."
   ]
  },
  {
   "cell_type": "code",
   "execution_count": 112,
   "metadata": {},
   "outputs": [
    {
     "data": {
      "text/plain": [
       "(101766, 50)"
      ]
     },
     "execution_count": 112,
     "metadata": {},
     "output_type": "execute_result"
    }
   ],
   "source": [
    "df.shape"
   ]
  },
  {
   "cell_type": "code",
   "execution_count": 113,
   "metadata": {},
   "outputs": [
    {
     "name": "stdout",
     "output_type": "stream",
     "text": [
      "<class 'pandas.core.frame.DataFrame'>\n",
      "RangeIndex: 101766 entries, 0 to 101765\n",
      "Data columns (total 50 columns):\n",
      " #   Column                    Non-Null Count   Dtype \n",
      "---  ------                    --------------   ----- \n",
      " 0   encounter_id              101766 non-null  int64 \n",
      " 1   patient_nbr               101766 non-null  int64 \n",
      " 2   race                      101766 non-null  object\n",
      " 3   gender                    101766 non-null  object\n",
      " 4   age                       101766 non-null  object\n",
      " 5   weight                    101766 non-null  object\n",
      " 6   admission_type_id         101766 non-null  int64 \n",
      " 7   discharge_disposition_id  101766 non-null  int64 \n",
      " 8   admission_source_id       101766 non-null  int64 \n",
      " 9   time_in_hospital          101766 non-null  int64 \n",
      " 10  payer_code                101766 non-null  object\n",
      " 11  medical_specialty         101766 non-null  object\n",
      " 12  num_lab_procedures        101766 non-null  int64 \n",
      " 13  num_procedures            101766 non-null  int64 \n",
      " 14  num_medications           101766 non-null  int64 \n",
      " 15  number_outpatient         101766 non-null  int64 \n",
      " 16  number_emergency          101766 non-null  int64 \n",
      " 17  number_inpatient          101766 non-null  int64 \n",
      " 18  diag_1                    101766 non-null  object\n",
      " 19  diag_2                    101766 non-null  object\n",
      " 20  diag_3                    101766 non-null  object\n",
      " 21  number_diagnoses          101766 non-null  int64 \n",
      " 22  max_glu_serum             5346 non-null    object\n",
      " 23  A1Cresult                 17018 non-null   object\n",
      " 24  metformin                 101766 non-null  object\n",
      " 25  repaglinide               101766 non-null  object\n",
      " 26  nateglinide               101766 non-null  object\n",
      " 27  chlorpropamide            101766 non-null  object\n",
      " 28  glimepiride               101766 non-null  object\n",
      " 29  acetohexamide             101766 non-null  object\n",
      " 30  glipizide                 101766 non-null  object\n",
      " 31  glyburide                 101766 non-null  object\n",
      " 32  tolbutamide               101766 non-null  object\n",
      " 33  pioglitazone              101766 non-null  object\n",
      " 34  rosiglitazone             101766 non-null  object\n",
      " 35  acarbose                  101766 non-null  object\n",
      " 36  miglitol                  101766 non-null  object\n",
      " 37  troglitazone              101766 non-null  object\n",
      " 38  tolazamide                101766 non-null  object\n",
      " 39  examide                   101766 non-null  object\n",
      " 40  citoglipton               101766 non-null  object\n",
      " 41  insulin                   101766 non-null  object\n",
      " 42  glyburide-metformin       101766 non-null  object\n",
      " 43  glipizide-metformin       101766 non-null  object\n",
      " 44  glimepiride-pioglitazone  101766 non-null  object\n",
      " 45  metformin-rosiglitazone   101766 non-null  object\n",
      " 46  metformin-pioglitazone    101766 non-null  object\n",
      " 47  change                    101766 non-null  object\n",
      " 48  diabetesMed               101766 non-null  object\n",
      " 49  readmitted                101766 non-null  object\n",
      "dtypes: int64(13), object(37)\n",
      "memory usage: 38.8+ MB\n"
     ]
    }
   ],
   "source": [
    "df.info()"
   ]
  },
  {
   "cell_type": "markdown",
   "metadata": {},
   "source": [
    "There are 50 features in this data. It conatins numerical values(int) and categorical values(object).\n",
    "\n",
    "There are 101766 samples present in this dataset. There seem to be no null values.We will dig deep and find out more."
   ]
  },
  {
   "cell_type": "code",
   "execution_count": 114,
   "metadata": {},
   "outputs": [
    {
     "data": {
      "text/html": [
       "<div>\n",
       "<style scoped>\n",
       "    .dataframe tbody tr th:only-of-type {\n",
       "        vertical-align: middle;\n",
       "    }\n",
       "\n",
       "    .dataframe tbody tr th {\n",
       "        vertical-align: top;\n",
       "    }\n",
       "\n",
       "    .dataframe thead th {\n",
       "        text-align: right;\n",
       "    }\n",
       "</style>\n",
       "<table border=\"1\" class=\"dataframe\">\n",
       "  <thead>\n",
       "    <tr style=\"text-align: right;\">\n",
       "      <th></th>\n",
       "      <th>encounter_id</th>\n",
       "      <th>patient_nbr</th>\n",
       "      <th>admission_type_id</th>\n",
       "      <th>discharge_disposition_id</th>\n",
       "      <th>admission_source_id</th>\n",
       "      <th>time_in_hospital</th>\n",
       "      <th>num_lab_procedures</th>\n",
       "      <th>num_procedures</th>\n",
       "      <th>num_medications</th>\n",
       "      <th>number_outpatient</th>\n",
       "      <th>number_emergency</th>\n",
       "      <th>number_inpatient</th>\n",
       "      <th>number_diagnoses</th>\n",
       "    </tr>\n",
       "  </thead>\n",
       "  <tbody>\n",
       "    <tr>\n",
       "      <th>count</th>\n",
       "      <td>1.017660e+05</td>\n",
       "      <td>1.017660e+05</td>\n",
       "      <td>101766.000000</td>\n",
       "      <td>101766.000000</td>\n",
       "      <td>101766.000000</td>\n",
       "      <td>101766.000000</td>\n",
       "      <td>101766.000000</td>\n",
       "      <td>101766.000000</td>\n",
       "      <td>101766.000000</td>\n",
       "      <td>101766.000000</td>\n",
       "      <td>101766.000000</td>\n",
       "      <td>101766.000000</td>\n",
       "      <td>101766.000000</td>\n",
       "    </tr>\n",
       "    <tr>\n",
       "      <th>mean</th>\n",
       "      <td>1.652016e+08</td>\n",
       "      <td>5.433040e+07</td>\n",
       "      <td>2.024006</td>\n",
       "      <td>3.715642</td>\n",
       "      <td>5.754437</td>\n",
       "      <td>4.395987</td>\n",
       "      <td>43.095641</td>\n",
       "      <td>1.339730</td>\n",
       "      <td>16.021844</td>\n",
       "      <td>0.369357</td>\n",
       "      <td>0.197836</td>\n",
       "      <td>0.635566</td>\n",
       "      <td>7.422607</td>\n",
       "    </tr>\n",
       "    <tr>\n",
       "      <th>std</th>\n",
       "      <td>1.026403e+08</td>\n",
       "      <td>3.869636e+07</td>\n",
       "      <td>1.445403</td>\n",
       "      <td>5.280166</td>\n",
       "      <td>4.064081</td>\n",
       "      <td>2.985108</td>\n",
       "      <td>19.674362</td>\n",
       "      <td>1.705807</td>\n",
       "      <td>8.127566</td>\n",
       "      <td>1.267265</td>\n",
       "      <td>0.930472</td>\n",
       "      <td>1.262863</td>\n",
       "      <td>1.933600</td>\n",
       "    </tr>\n",
       "    <tr>\n",
       "      <th>min</th>\n",
       "      <td>1.252200e+04</td>\n",
       "      <td>1.350000e+02</td>\n",
       "      <td>1.000000</td>\n",
       "      <td>1.000000</td>\n",
       "      <td>1.000000</td>\n",
       "      <td>1.000000</td>\n",
       "      <td>1.000000</td>\n",
       "      <td>0.000000</td>\n",
       "      <td>1.000000</td>\n",
       "      <td>0.000000</td>\n",
       "      <td>0.000000</td>\n",
       "      <td>0.000000</td>\n",
       "      <td>1.000000</td>\n",
       "    </tr>\n",
       "    <tr>\n",
       "      <th>25%</th>\n",
       "      <td>8.496119e+07</td>\n",
       "      <td>2.341322e+07</td>\n",
       "      <td>1.000000</td>\n",
       "      <td>1.000000</td>\n",
       "      <td>1.000000</td>\n",
       "      <td>2.000000</td>\n",
       "      <td>31.000000</td>\n",
       "      <td>0.000000</td>\n",
       "      <td>10.000000</td>\n",
       "      <td>0.000000</td>\n",
       "      <td>0.000000</td>\n",
       "      <td>0.000000</td>\n",
       "      <td>6.000000</td>\n",
       "    </tr>\n",
       "    <tr>\n",
       "      <th>50%</th>\n",
       "      <td>1.523890e+08</td>\n",
       "      <td>4.550514e+07</td>\n",
       "      <td>1.000000</td>\n",
       "      <td>1.000000</td>\n",
       "      <td>7.000000</td>\n",
       "      <td>4.000000</td>\n",
       "      <td>44.000000</td>\n",
       "      <td>1.000000</td>\n",
       "      <td>15.000000</td>\n",
       "      <td>0.000000</td>\n",
       "      <td>0.000000</td>\n",
       "      <td>0.000000</td>\n",
       "      <td>8.000000</td>\n",
       "    </tr>\n",
       "    <tr>\n",
       "      <th>75%</th>\n",
       "      <td>2.302709e+08</td>\n",
       "      <td>8.754595e+07</td>\n",
       "      <td>3.000000</td>\n",
       "      <td>4.000000</td>\n",
       "      <td>7.000000</td>\n",
       "      <td>6.000000</td>\n",
       "      <td>57.000000</td>\n",
       "      <td>2.000000</td>\n",
       "      <td>20.000000</td>\n",
       "      <td>0.000000</td>\n",
       "      <td>0.000000</td>\n",
       "      <td>1.000000</td>\n",
       "      <td>9.000000</td>\n",
       "    </tr>\n",
       "    <tr>\n",
       "      <th>max</th>\n",
       "      <td>4.438672e+08</td>\n",
       "      <td>1.895026e+08</td>\n",
       "      <td>8.000000</td>\n",
       "      <td>28.000000</td>\n",
       "      <td>25.000000</td>\n",
       "      <td>14.000000</td>\n",
       "      <td>132.000000</td>\n",
       "      <td>6.000000</td>\n",
       "      <td>81.000000</td>\n",
       "      <td>42.000000</td>\n",
       "      <td>76.000000</td>\n",
       "      <td>21.000000</td>\n",
       "      <td>16.000000</td>\n",
       "    </tr>\n",
       "  </tbody>\n",
       "</table>\n",
       "</div>"
      ],
      "text/plain": [
       "       encounter_id   patient_nbr  admission_type_id  \\\n",
       "count  1.017660e+05  1.017660e+05      101766.000000   \n",
       "mean   1.652016e+08  5.433040e+07           2.024006   \n",
       "std    1.026403e+08  3.869636e+07           1.445403   \n",
       "min    1.252200e+04  1.350000e+02           1.000000   \n",
       "25%    8.496119e+07  2.341322e+07           1.000000   \n",
       "50%    1.523890e+08  4.550514e+07           1.000000   \n",
       "75%    2.302709e+08  8.754595e+07           3.000000   \n",
       "max    4.438672e+08  1.895026e+08           8.000000   \n",
       "\n",
       "       discharge_disposition_id  admission_source_id  time_in_hospital  \\\n",
       "count             101766.000000        101766.000000     101766.000000   \n",
       "mean                   3.715642             5.754437          4.395987   \n",
       "std                    5.280166             4.064081          2.985108   \n",
       "min                    1.000000             1.000000          1.000000   \n",
       "25%                    1.000000             1.000000          2.000000   \n",
       "50%                    1.000000             7.000000          4.000000   \n",
       "75%                    4.000000             7.000000          6.000000   \n",
       "max                   28.000000            25.000000         14.000000   \n",
       "\n",
       "       num_lab_procedures  num_procedures  num_medications  number_outpatient  \\\n",
       "count       101766.000000   101766.000000    101766.000000      101766.000000   \n",
       "mean            43.095641        1.339730        16.021844           0.369357   \n",
       "std             19.674362        1.705807         8.127566           1.267265   \n",
       "min              1.000000        0.000000         1.000000           0.000000   \n",
       "25%             31.000000        0.000000        10.000000           0.000000   \n",
       "50%             44.000000        1.000000        15.000000           0.000000   \n",
       "75%             57.000000        2.000000        20.000000           0.000000   \n",
       "max            132.000000        6.000000        81.000000          42.000000   \n",
       "\n",
       "       number_emergency  number_inpatient  number_diagnoses  \n",
       "count     101766.000000     101766.000000     101766.000000  \n",
       "mean           0.197836          0.635566          7.422607  \n",
       "std            0.930472          1.262863          1.933600  \n",
       "min            0.000000          0.000000          1.000000  \n",
       "25%            0.000000          0.000000          6.000000  \n",
       "50%            0.000000          0.000000          8.000000  \n",
       "75%            0.000000          1.000000          9.000000  \n",
       "max           76.000000         21.000000         16.000000  "
      ]
     },
     "execution_count": 114,
     "metadata": {},
     "output_type": "execute_result"
    }
   ],
   "source": [
    "df.describe()"
   ]
  },
  {
   "cell_type": "markdown",
   "metadata": {},
   "source": [
    "There are 50 features looking into all of these.\n",
    "\n",
    "1. encounter_id : unique identifier of an encounter"
   ]
  },
  {
   "cell_type": "code",
   "execution_count": 115,
   "metadata": {},
   "outputs": [
    {
     "data": {
      "text/plain": [
       "101766"
      ]
     },
     "execution_count": 115,
     "metadata": {},
     "output_type": "execute_result"
    }
   ],
   "source": [
    "df['encounter_id'].nunique()"
   ]
  },
  {
   "cell_type": "markdown",
   "metadata": {},
   "source": [
    "All the patients that have come to the hospital have been provided with an encounter_id so that is why there are 101766 different unique values.\n",
    "\n",
    "2. patient_nbr : unique identifier of a patient"
   ]
  },
  {
   "cell_type": "code",
   "execution_count": 116,
   "metadata": {},
   "outputs": [
    {
     "data": {
      "text/plain": [
       "71518"
      ]
     },
     "execution_count": 116,
     "metadata": {},
     "output_type": "execute_result"
    }
   ],
   "source": [
    "df['patient_nbr'].nunique()"
   ]
  },
  {
   "cell_type": "markdown",
   "metadata": {},
   "source": [
    "There are 71518 unique paitents that have entered the system.\n",
    "\n",
    "#encounter_id and patient_nbr: these are just identifiers and not useful variables so they can be dropped"
   ]
  },
  {
   "cell_type": "code",
   "execution_count": 117,
   "metadata": {},
   "outputs": [],
   "source": [
    "df = df.drop(columns=['encounter_id', 'patient_nbr'])"
   ]
  },
  {
   "cell_type": "markdown",
   "metadata": {},
   "source": [
    "3. race : It is a categorical variable."
   ]
  },
  {
   "cell_type": "code",
   "execution_count": 118,
   "metadata": {},
   "outputs": [
    {
     "name": "stdout",
     "output_type": "stream",
     "text": [
      "race\n",
      "Caucasian          76099\n",
      "AfricanAmerican    19210\n",
      "?                   2273\n",
      "Hispanic            2037\n",
      "Other               1506\n",
      "Asian                641\n",
      "Name: count, dtype: int64\n"
     ]
    },
    {
     "data": {
      "image/png": "[encoded data removed]",
      "text/plain": [
       "<Figure size 1500x500 with 1 Axes>"
      ]
     },
     "metadata": {},
     "output_type": "display_data"
    }
   ],
   "source": [
    "print(df['race'].value_counts())\n",
    "df['race'].value_counts().plot(kind='pie',autopct='%.2f%%',figsize=(15,5))\n",
    "plt.show()"
   ]
  },
  {
   "cell_type": "markdown",
   "metadata": {},
   "source": [
    "There are 5 distinct categories under race feature. There are some unknown values here entered in the form of '?' which needs to be treated."
   ]
  },
  {
   "cell_type": "code",
   "execution_count": 119,
   "metadata": {},
   "outputs": [
    {
     "data": {
      "text/plain": [
       "2.2335554114340743"
      ]
     },
     "execution_count": 119,
     "metadata": {},
     "output_type": "execute_result"
    }
   ],
   "source": [
    "df['race'] = df['race'].replace('?',np.nan)\n",
    "df['race'].isna().sum()*100/df.shape[0]\n",
    "# Only 2.3 % of null values in column 'race'"
   ]
  },
  {
   "cell_type": "markdown",
   "metadata": {},
   "source": [
    "For null value filling we dropped the null values as mull values set are very less."
   ]
  },
  {
   "cell_type": "code",
   "execution_count": 120,
   "metadata": {},
   "outputs": [],
   "source": [
    "df = df[df['race'].notna()]"
   ]
  },
  {
   "cell_type": "markdown",
   "metadata": {},
   "source": [
    "\n",
    "4. gender: It is a categorical feature depicting the gender of the patient."
   ]
  },
  {
   "cell_type": "code",
   "execution_count": 121,
   "metadata": {},
   "outputs": [
    {
     "data": {
      "image/png": "[encoded data removed]",
      "text/plain": [
       "<Figure size 640x480 with 1 Axes>"
      ]
     },
     "metadata": {},
     "output_type": "display_data"
    },
    {
     "name": "stdout",
     "output_type": "stream",
     "text": [
      "gender\n",
      "Female             53575\n",
      "Male               45917\n",
      "Unknown/Invalid        1\n",
      "Name: count, dtype: int64\n"
     ]
    }
   ],
   "source": [
    "sns.countplot(x='gender',data=df)\n",
    "plt.show()\n",
    "print(df.gender.value_counts())"
   ]
  },
  {
   "cell_type": "markdown",
   "metadata": {},
   "source": [
    "There are 2 categories here: female, male. There is a 3rd category of unknown/invalid which are missing/unknown values which only have 1 value hence they can be dropped."
   ]
  },
  {
   "cell_type": "code",
   "execution_count": 122,
   "metadata": {},
   "outputs": [],
   "source": [
    "df = df[df['gender'] != 'Unknown/Invalid']"
   ]
  },
  {
   "cell_type": "code",
   "execution_count": 123,
   "metadata": {},
   "outputs": [],
   "source": [
    "#encoding gender\n",
    "df['gender'] = df['gender'].replace({'Female' : 0, 'Male' : 1})"
   ]
  },
  {
   "cell_type": "markdown",
   "metadata": {},
   "source": [
    "5. Age: It is a categorical feature as the age is grouped here in bins of 10 yrs"
   ]
  },
  {
   "cell_type": "code",
   "execution_count": 124,
   "metadata": {},
   "outputs": [
    {
     "data": {
      "image/png": "[encoded data removed]",
      "text/plain": [
       "<Figure size 640x480 with 1 Axes>"
      ]
     },
     "metadata": {},
     "output_type": "display_data"
    }
   ],
   "source": [
    "# check 'age' feature\n",
    "df.groupby('age').size().plot(kind='bar')\n",
    "plt.ylabel('Count')\n",
    "plt.show()"
   ]
  },
  {
   "cell_type": "markdown",
   "metadata": {},
   "source": [
    "The age here range from 0 to 100 yrs. \n",
    "\n",
    "The population falling in the range of 50 to 90 yrs are mostly present in this dataset.\n",
    "\n",
    "Treating age column by taking the middle value"
   ]
  },
  {
   "cell_type": "code",
   "execution_count": 125,
   "metadata": {},
   "outputs": [
    {
     "data": {
      "text/plain": [
       "age\n",
       "75    25468\n",
       "65    21988\n",
       "55    16895\n",
       "85    16800\n",
       "45     9465\n",
       "35     3699\n",
       "95     2724\n",
       "25     1611\n",
       "15      682\n",
       "5       160\n",
       "Name: count, dtype: int64"
      ]
     },
     "execution_count": 125,
     "metadata": {},
     "output_type": "execute_result"
    }
   ],
   "source": [
    "#Age\n",
    "# Modify age column\n",
    "df['age'] = df['age'].map({'[70-80)': 75,\n",
    "                                       '[60-70)': 65,\n",
    "                                       '[80-90)': 85,\n",
    "                                       '[50-60)': 55,\n",
    "                                       '[40-50)':45,\n",
    "                                       '[30-40)': 35,\n",
    "                                       '[90-100)':95,\n",
    "                                       '[20-30)':25,\n",
    "                                       '[10-20)':15,\n",
    "                                       '[0-10)': 5})\n",
    "df['age'].value_counts()"
   ]
  },
  {
   "cell_type": "markdown",
   "metadata": {},
   "source": [
    "6. Weight : weight in pounds."
   ]
  },
  {
   "cell_type": "code",
   "execution_count": 126,
   "metadata": {},
   "outputs": [
    {
     "data": {
      "text/plain": [
       "weight\n",
       "?            96.925381\n",
       "[75-100)      1.285530\n",
       "[50-75)       0.865396\n",
       "[100-125)     0.599043\n",
       "[125-150)     0.136694\n",
       "[25-50)       0.093475\n",
       "[0-25)        0.047240\n",
       "[150-175)     0.034174\n",
       "[175-200)     0.010051\n",
       ">200          0.003015\n",
       "Name: proportion, dtype: float64"
      ]
     },
     "execution_count": 126,
     "metadata": {},
     "output_type": "execute_result"
    }
   ],
   "source": [
    "df.weight.value_counts(1)*100"
   ]
  },
  {
   "cell_type": "markdown",
   "metadata": {},
   "source": [
    "Weight is also divided into bins of 25 pounds, but 96.9% part of the weight has unknown values. So we can drop this column."
   ]
  },
  {
   "cell_type": "code",
   "execution_count": 127,
   "metadata": {},
   "outputs": [],
   "source": [
    "df.drop(['weight'],axis=1,inplace=True)"
   ]
  },
  {
   "cell_type": "markdown",
   "metadata": {},
   "source": [
    "7. admission_type_id : Integer identifier corresponding to 8 distinct values, for example, emergency, urgent, elective, newborn, and not available"
   ]
  },
  {
   "cell_type": "code",
   "execution_count": 128,
   "metadata": {},
   "outputs": [
    {
     "data": {
      "text/plain": [
       "8"
      ]
     },
     "execution_count": 128,
     "metadata": {},
     "output_type": "execute_result"
    }
   ],
   "source": [
    "df.admission_type_id.nunique()"
   ]
  },
  {
   "cell_type": "markdown",
   "metadata": {},
   "source": [
    "There are 8 unique values ranging from 1 to 8. These 8 values correspond to : \n",
    "\n",
    "1\tEmergency\n",
    "\n",
    "2\tUrgent\n",
    "\n",
    "3\tElective\n",
    "\n",
    "4\tNewborn\n",
    "\n",
    "5\tNot Available\n",
    "\n",
    "6\tNULL\n",
    "\n",
    "7\tTrauma Center\n",
    "\n",
    "8\tNot Mapped\n",
    "\n",
    "For further analysis we can merger these categories into less number of categories.\n",
    "\n",
    "Emeregncy/Urgent/Trauma Center ---> Emergency \n",
    "\n",
    "Not Available/Null/Not Mapped ---> Not Available\n",
    "\n",
    "Elective ---> Elective\n",
    "\n",
    "New Born ---> New Born"
   ]
  },
  {
   "cell_type": "code",
   "execution_count": 129,
   "metadata": {},
   "outputs": [],
   "source": [
    "df['admission_type_id']=df['admission_type_id'].replace({1:'Emergency',2:'Emergency',7:'Emergency',\n",
    "                                 5:'Not Available', 6:'Not Available', 8:'Not Available',\n",
    "                                 3:'Elective',4:'Newborn'})"
   ]
  },
  {
   "cell_type": "code",
   "execution_count": 130,
   "metadata": {
    "scrolled": true
   },
   "outputs": [
    {
     "data": {
      "image/png": "[encoded data removed]",
      "text/plain": [
       "<Figure size 640x480 with 1 Axes>"
      ]
     },
     "metadata": {},
     "output_type": "display_data"
    }
   ],
   "source": [
    "sns.countplot(x='admission_type_id',data=df)\n",
    "plt.show()"
   ]
  },
  {
   "cell_type": "markdown",
   "metadata": {},
   "source": [
    "From this we can see that the majority patients that have been admitted in this hospital have an admission type as emergency."
   ]
  },
  {
   "cell_type": "code",
   "execution_count": 131,
   "metadata": {},
   "outputs": [
    {
     "data": {
      "text/html": [
       "<div>\n",
       "<style scoped>\n",
       "    .dataframe tbody tr th:only-of-type {\n",
       "        vertical-align: middle;\n",
       "    }\n",
       "\n",
       "    .dataframe tbody tr th {\n",
       "        vertical-align: top;\n",
       "    }\n",
       "\n",
       "    .dataframe thead th {\n",
       "        text-align: right;\n",
       "    }\n",
       "</style>\n",
       "<table border=\"1\" class=\"dataframe\">\n",
       "  <thead>\n",
       "    <tr style=\"text-align: right;\">\n",
       "      <th></th>\n",
       "      <th>gender</th>\n",
       "      <th>age</th>\n",
       "      <th>admission_type_id</th>\n",
       "    </tr>\n",
       "  </thead>\n",
       "  <tbody>\n",
       "    <tr>\n",
       "      <th>2043</th>\n",
       "      <td>1</td>\n",
       "      <td>55</td>\n",
       "      <td>Newborn</td>\n",
       "    </tr>\n",
       "    <tr>\n",
       "      <th>2203</th>\n",
       "      <td>1</td>\n",
       "      <td>85</td>\n",
       "      <td>Newborn</td>\n",
       "    </tr>\n",
       "    <tr>\n",
       "      <th>2461</th>\n",
       "      <td>1</td>\n",
       "      <td>75</td>\n",
       "      <td>Newborn</td>\n",
       "    </tr>\n",
       "    <tr>\n",
       "      <th>4823</th>\n",
       "      <td>0</td>\n",
       "      <td>65</td>\n",
       "      <td>Newborn</td>\n",
       "    </tr>\n",
       "    <tr>\n",
       "      <th>35877</th>\n",
       "      <td>1</td>\n",
       "      <td>65</td>\n",
       "      <td>Newborn</td>\n",
       "    </tr>\n",
       "    <tr>\n",
       "      <th>47548</th>\n",
       "      <td>1</td>\n",
       "      <td>45</td>\n",
       "      <td>Newborn</td>\n",
       "    </tr>\n",
       "    <tr>\n",
       "      <th>48711</th>\n",
       "      <td>0</td>\n",
       "      <td>75</td>\n",
       "      <td>Newborn</td>\n",
       "    </tr>\n",
       "    <tr>\n",
       "      <th>80354</th>\n",
       "      <td>0</td>\n",
       "      <td>5</td>\n",
       "      <td>Newborn</td>\n",
       "    </tr>\n",
       "    <tr>\n",
       "      <th>87714</th>\n",
       "      <td>1</td>\n",
       "      <td>65</td>\n",
       "      <td>Newborn</td>\n",
       "    </tr>\n",
       "    <tr>\n",
       "      <th>100721</th>\n",
       "      <td>1</td>\n",
       "      <td>85</td>\n",
       "      <td>Newborn</td>\n",
       "    </tr>\n",
       "  </tbody>\n",
       "</table>\n",
       "</div>"
      ],
      "text/plain": [
       "        gender  age admission_type_id\n",
       "2043         1   55           Newborn\n",
       "2203         1   85           Newborn\n",
       "2461         1   75           Newborn\n",
       "4823         0   65           Newborn\n",
       "35877        1   65           Newborn\n",
       "47548        1   45           Newborn\n",
       "48711        0   75           Newborn\n",
       "80354        0    5           Newborn\n",
       "87714        1   65           Newborn\n",
       "100721       1   85           Newborn"
      ]
     },
     "execution_count": 131,
     "metadata": {},
     "output_type": "execute_result"
    }
   ],
   "source": [
    "df[df['admission_type_id']== 'Newborn'][['gender','age','admission_type_id']]"
   ]
  },
  {
   "cell_type": "markdown",
   "metadata": {},
   "source": [
    "Droppping the category new born because the admission_type_id == newborn and the age and gender corresponding to it gives contradictory information."
   ]
  },
  {
   "cell_type": "code",
   "execution_count": 132,
   "metadata": {},
   "outputs": [],
   "source": [
    "df=df[df['admission_type_id']!='Newborn']"
   ]
  },
  {
   "cell_type": "code",
   "execution_count": 133,
   "metadata": {},
   "outputs": [
    {
     "data": {
      "text/plain": [
       "admission_type_id\n",
       "Emergency        70706\n",
       "Elective         18507\n",
       "Not Available    10269\n",
       "Name: count, dtype: int64"
      ]
     },
     "execution_count": 133,
     "metadata": {},
     "output_type": "execute_result"
    }
   ],
   "source": [
    "df.admission_type_id.value_counts()"
   ]
  },
  {
   "cell_type": "markdown",
   "metadata": {},
   "source": [
    "\n",
    "8. Discharge disposition: Integer identifier corresponding to 26 distinct values, for example, discharged to home, expired, and not available"
   ]
  },
  {
   "cell_type": "markdown",
   "metadata": {},
   "source": [
    "#### discharge_disposition_id\tdescription\n",
    "\n",
    "1\tDischarged to home\n",
    "\n",
    "2\tDischarged/transferred to another short term hospital\n",
    "\n",
    "3\tDischarged/transferred to SNF(skilled nursing facility)\n",
    "\n",
    "4\tDischarged/transferred to ICF(intermediate care facility)\n",
    "\n",
    "5\tDischarged/transferred to another type of inpatient care institution\n",
    "\n",
    "6\tDischarged/transferred to home with home health service\n",
    "\n",
    "7\tLeft AMA(Against Medical Advice.)\n",
    "\n",
    "8\tDischarged/transferred to home under care of Home IV provider\n",
    "\n",
    "9\tAdmitted as an inpatient to this hospital\n",
    "\n",
    "10\tNeonate discharged to another hospital for neonatal aftercare\n",
    "\n",
    "11\tExpired\n",
    "\n",
    "12\tStill patient or expected to return for outpatient services\n",
    "\n",
    "13\tHospice / home\n",
    "\n",
    "14\tHospice / medical facility\n",
    "\n",
    "15\tDischarged/transferred within this institution to Medicare approved swing bed\n",
    "\n",
    "16\tDischarged/transferred/referred another institution for outpatient services\n",
    "\n",
    "17\tDischarged/transferred/referred to this institution for outpatient services\n",
    "\n",
    "18\tNULL\n",
    "\n",
    "19\tExpired at home. Medicaid only, hospice.\n",
    "\n",
    "20\tExpired in a medical facility. Medicaid only, hospice.\n",
    "\n",
    "21\tExpired, place unknown. Medicaid only, hospice.\n",
    "\n",
    "22\tDischarged/transferred to another rehab fac including rehab units of a hospital .\n",
    "\n",
    "23\tDischarged/transferred to a long term care hospital.\n",
    "\n",
    "24\tDischarged/transferred to a nursing facility certified under Medicaid but not certified under Medicare.\n",
    "\n",
    "25\tNot Mapped\n",
    "\n",
    "26\tUnknown/Invalid\n",
    "\n",
    "30\tDischarged/transferred to another Type of Health Care Institution not Defined Elsewhere\n",
    "\n",
    "27\tDischarged/transferred to a federal health care facility.\n",
    "\n",
    "28\tDischarged/transferred/referred to a psychiatric hospital of psychiatric distinct part unit of a hospital\n",
    "\n",
    "29\tDischarged/transferred to a Critical Access Hospital (CAH).\n",
    "\n",
    "#### We can merge several grps over here to reduce the number of categories:\n",
    "\n",
    "1 ---> Discharged to home\n",
    "\n",
    "2/3/4/5/10/16/22/23/24/30/27/28/29 ---> Transferred to another medical facility\n",
    "\n",
    "7 ---> Left AMA(Against Medical Advice.)\n",
    "\n",
    "6/8 ---> Discharged to home with home health service\n",
    "\n",
    "9/12/15/17 ---> Still patient/referred to this institution\n",
    "\n",
    "11/19/20/21  ---> Expired\n",
    "\n",
    "18/25/26 ---> Not Available\n",
    "\n",
    "13/14 ---> Hospice"
   ]
  },
  {
   "cell_type": "code",
   "execution_count": 134,
   "metadata": {},
   "outputs": [],
   "source": [
    "df['discharge_disposition_id']=df['discharge_disposition_id'].replace({1:'Discharged to home',\n",
    "                                        2:'Transferred to another medical facility',\n",
    "                                        3:'Transferred to another medical facility',\n",
    "                                        4:'Transferred to another medical facility',\n",
    "                                        5:'Transferred to another medical facility',\n",
    "                                        16:'Transferred to another medical facility',\n",
    "                                        22:'Transferred to another medical facility',\n",
    "                                        23:'Transferred to another medical facility',\n",
    "                                        24:'Transferred to another medical facility',\n",
    "                                        27:'Transferred to another medical facility',\n",
    "                                        28:'Transferred to another medical facility',\n",
    "                                        29:'Transferred to another medical facility',\n",
    "                                        30:'Transferred to another medical facility',                            \n",
    "                                        6:'Discharged to home with home health service',\n",
    "                                        8:'Discharged to home with home health service',\n",
    "                                        7:'Left AMA',\n",
    "                                        9:'Still patient/referred to this institution',\n",
    "                                        12:'Still patient/referred to this institution',\n",
    "                                        15:'Still patient/referred to this institution',\n",
    "                                        17:'Still patient/referred to this institution',\n",
    "                                        10:'Neonate discharged',\n",
    "                                        11:'Expired',\n",
    "                                        19:'Expired',\n",
    "                                        20:'Expired',\n",
    "                                        21:'Expired',\n",
    "                                        13:'Hospice',\n",
    "                                        14:'Hospice',\n",
    "                                        18:'Not Available',\n",
    "                                        25:'Not Available',\n",
    "                                        26:'Not Available'})"
   ]
  },
  {
   "cell_type": "code",
   "execution_count": 135,
   "metadata": {},
   "outputs": [
    {
     "data": {
      "text/plain": [
       "discharge_disposition_id\n",
       "Discharged to home                             58761\n",
       "Transferred to another medical facility        20172\n",
       "Discharged to home with home health service    12801\n",
       "Not Available                                   4646\n",
       "Expired                                         1618\n",
       "Hospice                                          766\n",
       "Left AMA                                         611\n",
       "Still patient/referred to this institution       101\n",
       "Neonate discharged                                 6\n",
       "Name: count, dtype: int64"
      ]
     },
     "execution_count": 135,
     "metadata": {},
     "output_type": "execute_result"
    }
   ],
   "source": [
    "df.discharge_disposition_id.value_counts()"
   ]
  },
  {
   "cell_type": "markdown",
   "metadata": {},
   "source": [
    "The patients who have expired should be removed from the system beacuse they will create bias as they will not be readmitted."
   ]
  },
  {
   "cell_type": "code",
   "execution_count": 136,
   "metadata": {},
   "outputs": [],
   "source": [
    "df=df[df['discharge_disposition_id']!='Expired']\n",
    "df=df[df['discharge_disposition_id']!='Neonate discharged']\n",
    "df=df[df['discharge_disposition_id']!='Hospice']"
   ]
  },
  {
   "cell_type": "markdown",
   "metadata": {},
   "source": [
    "9. admission_source_id: Integer identifier corresponding to 17 distinct values, for example, physician referral, emergency room, and transfer from a hospital"
   ]
  },
  {
   "cell_type": "code",
   "execution_count": 137,
   "metadata": {},
   "outputs": [
    {
     "data": {
      "text/plain": [
       "admission_source_id\n",
       "1     28456\n",
       "7     55007\n",
       "2      1021\n",
       "4      2918\n",
       "5       800\n",
       "20      158\n",
       "6      1964\n",
       "3       185\n",
       "17     6489\n",
       "8        15\n",
       "9        54\n",
       "10        7\n",
       "22       12\n",
       "14        1\n",
       "11        2\n",
       "25        2\n",
       "13        1\n",
       "Name: count, dtype: int64"
      ]
     },
     "execution_count": 137,
     "metadata": {},
     "output_type": "execute_result"
    }
   ],
   "source": [
    "df.admission_source_id.value_counts(sort=False)"
   ]
  },
  {
   "cell_type": "markdown",
   "metadata": {},
   "source": [
    "\n",
    "1\t Physician Referral\n",
    "\n",
    "2\tClinic Referral\n",
    "\n",
    "3\tHMO Referral(Health Maintenance Organization)\n",
    "\n",
    "4\tTransfer from a hospital\n",
    "\n",
    "5\t Transfer from a Skilled Nursing Facility (SNF)\n",
    "\n",
    "6\t Transfer from another health care facility\n",
    "\n",
    "7\t Emergency Room\n",
    "\n",
    "8\t Court/Law Enforcement\n",
    "\n",
    "9\t Not Available\n",
    "\n",
    "10\t Transfer from critial access hospital\n",
    "\n",
    "11\tNormal Delivery\n",
    "\n",
    "12\t Premature Delivery\n",
    "\n",
    "13\t Sick Baby\n",
    "\n",
    "14\t Extramural Birth\n",
    "\n",
    "15\tNot Available\n",
    "\n",
    "17\tNULL\n",
    "\n",
    "18\t Transfer From Another Home Health Agency\n",
    "\n",
    "19\tReadmission to Same Home Health Agency\n",
    "\n",
    "20\t Not Mapped\n",
    "\n",
    "21\tUnknown/Invalid\n",
    "\n",
    "22\t Transfer from hospital inpt/same fac reslt in a sep claim\n",
    "\n",
    "23\t Born inside this hospital\n",
    "\n",
    "24\t Born outside this hospital\n",
    "\n",
    "25\t Transfer from Ambulatory Surgery Center\n",
    "\n",
    "26\tTransfer from Hospice\n",
    "\n",
    "#### We can merge several grps over here to reduce the number of categories:\n",
    "\n",
    "1/2/3 ---> Referral\n",
    "\n",
    "4/5/6/10/18/19/25/26/22 ---> Transferred from another health care facility\n",
    "\n",
    "7 ---> Emergency\n",
    "\n",
    "9/15/17/20/21 ---> Not Available\n",
    "\n",
    "8 --->  Court/Law Enforcement\n",
    "\n",
    "Delivery ---> 11/12/14/13/23/24"
   ]
  },
  {
   "cell_type": "code",
   "execution_count": 138,
   "metadata": {},
   "outputs": [],
   "source": [
    "df['admission_source_id']=df['admission_source_id'].replace({1:'Referral',\n",
    "                                   2:'Referral',\n",
    "                                   3:'Referral',\n",
    "                                   4:'Transferred from another health care facility',\n",
    "                                   5:'Transferred from another health care facility',\n",
    "                                   6:'Transferred from another health care facility',\n",
    "                                   8:'Emergency',                                    \n",
    "                                   10:'Transferred from another health care facility',\n",
    "                                   18:'Transferred from another health care facility',\n",
    "                                   19:'Transferred from another health care facility',\n",
    "                                   25:'Transferred from another health care facility',\n",
    "                                   26:'Transferred from another health care facility',\n",
    "                                   7:'Emergency',\n",
    "                                   9:'Not Available',\n",
    "                                   15:'Not Available',\n",
    "                                   17:'Not Available',\n",
    "                                   20:'Not Available',\n",
    "                                   21:'Not Available',\n",
    "                                   11:'Delivery',\n",
    "                                   12:'Delivery',\n",
    "                                   13:'Delivery',\n",
    "                                   14:'Delivery',\n",
    "                                   23:'Delivery',\n",
    "                                   22:\"Transferred from another health care facility\",                                    \n",
    "                                   24:'Delivery'})"
   ]
  },
  {
   "cell_type": "code",
   "execution_count": 139,
   "metadata": {
    "scrolled": true
   },
   "outputs": [
    {
     "data": {
      "text/plain": [
       "admission_source_id\n",
       "Emergency                                        55022\n",
       "Referral                                         29662\n",
       "Not Available                                     6701\n",
       "Transferred from another health care facility     5703\n",
       "Delivery                                             4\n",
       "Name: count, dtype: int64"
      ]
     },
     "execution_count": 139,
     "metadata": {},
     "output_type": "execute_result"
    }
   ],
   "source": [
    "df.admission_source_id.value_counts()"
   ]
  },
  {
   "cell_type": "code",
   "execution_count": 140,
   "metadata": {},
   "outputs": [
    {
     "data": {
      "text/html": [
       "<div>\n",
       "<style scoped>\n",
       "    .dataframe tbody tr th:only-of-type {\n",
       "        vertical-align: middle;\n",
       "    }\n",
       "\n",
       "    .dataframe tbody tr th {\n",
       "        vertical-align: top;\n",
       "    }\n",
       "\n",
       "    .dataframe thead th {\n",
       "        text-align: right;\n",
       "    }\n",
       "</style>\n",
       "<table border=\"1\" class=\"dataframe\">\n",
       "  <thead>\n",
       "    <tr style=\"text-align: right;\">\n",
       "      <th></th>\n",
       "      <th>gender</th>\n",
       "      <th>age</th>\n",
       "      <th>admission_source_id</th>\n",
       "    </tr>\n",
       "  </thead>\n",
       "  <tbody>\n",
       "    <tr>\n",
       "      <th>83432</th>\n",
       "      <td>0</td>\n",
       "      <td>75</td>\n",
       "      <td>Delivery</td>\n",
       "    </tr>\n",
       "    <tr>\n",
       "      <th>83510</th>\n",
       "      <td>0</td>\n",
       "      <td>25</td>\n",
       "      <td>Delivery</td>\n",
       "    </tr>\n",
       "    <tr>\n",
       "      <th>85588</th>\n",
       "      <td>0</td>\n",
       "      <td>75</td>\n",
       "      <td>Delivery</td>\n",
       "    </tr>\n",
       "    <tr>\n",
       "      <th>97384</th>\n",
       "      <td>1</td>\n",
       "      <td>75</td>\n",
       "      <td>Delivery</td>\n",
       "    </tr>\n",
       "  </tbody>\n",
       "</table>\n",
       "</div>"
      ],
      "text/plain": [
       "       gender  age admission_source_id\n",
       "83432       0   75            Delivery\n",
       "83510       0   25            Delivery\n",
       "85588       0   75            Delivery\n",
       "97384       1   75            Delivery"
      ]
     },
     "execution_count": 140,
     "metadata": {},
     "output_type": "execute_result"
    }
   ],
   "source": [
    "df[df['admission_source_id']=='Delivery'][['gender','age','admission_source_id']]"
   ]
  },
  {
   "cell_type": "markdown",
   "metadata": {},
   "source": [
    "Droping the category delivery  because the admission_source_id == delivery and the age corresponding to it give contradictory information."
   ]
  },
  {
   "cell_type": "code",
   "execution_count": 141,
   "metadata": {},
   "outputs": [],
   "source": [
    "df=df[df['admission_source_id']!='Delivery']"
   ]
  },
  {
   "cell_type": "markdown",
   "metadata": {},
   "source": [
    "* Since we have 2 columns regarding admission, type_id and source_id, we used this information to fill the ‘Not Available’ values in admssion_source_id columns with respect to the admission_type_id. For example, if admission_type_id is Emergency but admission_source_id is Not Available, we can fill Emergency(mode) in that place.\n",
    "* After filling it admission_type_id column was dropped since it was giving the same information as admission_source_id and was less significant statistically. "
   ]
  },
  {
   "cell_type": "code",
   "execution_count": 142,
   "metadata": {},
   "outputs": [],
   "source": [
    "df = df.reset_index(drop = True )"
   ]
  },
  {
   "cell_type": "code",
   "execution_count": 143,
   "metadata": {},
   "outputs": [
    {
     "data": {
      "text/plain": [
       "admission_source_id\n",
       "Emergency                                        52268\n",
       "Referral                                         11094\n",
       "Transferred from another health care facility     4422\n",
       "Not Available                                      981\n",
       "Name: count, dtype: int64"
      ]
     },
     "execution_count": 143,
     "metadata": {},
     "output_type": "execute_result"
    }
   ],
   "source": [
    "# Before\n",
    "df[df['admission_type_id']=='Emergency']['admission_source_id'].value_counts()"
   ]
  },
  {
   "cell_type": "code",
   "execution_count": 144,
   "metadata": {},
   "outputs": [],
   "source": [
    "for i in range(df.shape[0]):\n",
    "    if df.loc[i, 'admission_source_id'] == 'Not Available' and df.loc[i, 'admission_type_id'] == 'Emergency':\n",
    "        df.loc[i, 'admission_source_id'] = 'Emergency'"
   ]
  },
  {
   "cell_type": "code",
   "execution_count": 145,
   "metadata": {},
   "outputs": [
    {
     "data": {
      "text/plain": [
       "admission_source_id\n",
       "Emergency                                        53249\n",
       "Referral                                         11094\n",
       "Transferred from another health care facility     4422\n",
       "Name: count, dtype: int64"
      ]
     },
     "execution_count": 145,
     "metadata": {},
     "output_type": "execute_result"
    }
   ],
   "source": [
    "# After\n",
    "df[df['admission_type_id']=='Emergency']['admission_source_id'].value_counts()"
   ]
  },
  {
   "cell_type": "code",
   "execution_count": 146,
   "metadata": {},
   "outputs": [
    {
     "data": {
      "text/plain": [
       "admission_source_id\n",
       "Referral                                         16128\n",
       "Transferred from another health care facility     1211\n",
       "Emergency                                          912\n",
       "Not Available                                       59\n",
       "Name: count, dtype: int64"
      ]
     },
     "execution_count": 146,
     "metadata": {},
     "output_type": "execute_result"
    }
   ],
   "source": [
    "# Before\n",
    "df[df['admission_type_id']=='Elective']['admission_source_id'].value_counts()"
   ]
  },
  {
   "cell_type": "code",
   "execution_count": 147,
   "metadata": {},
   "outputs": [],
   "source": [
    "for i in range(df.shape[0]):\n",
    "    if df.loc[i, 'admission_source_id'] == 'Not Available' and df.loc[i, 'admission_type_id'] == 'Elective':\n",
    "        df.loc[i, 'admission_source_id'] = 'Referral'"
   ]
  },
  {
   "cell_type": "code",
   "execution_count": 148,
   "metadata": {
    "scrolled": true
   },
   "outputs": [
    {
     "data": {
      "text/plain": [
       "admission_source_id\n",
       "Referral                                         16187\n",
       "Transferred from another health care facility     1211\n",
       "Emergency                                          912\n",
       "Name: count, dtype: int64"
      ]
     },
     "execution_count": 148,
     "metadata": {},
     "output_type": "execute_result"
    }
   ],
   "source": [
    "# After\n",
    "df[df['admission_type_id']=='Elective']['admission_source_id'].value_counts()"
   ]
  },
  {
   "cell_type": "markdown",
   "metadata": {},
   "source": [
    "10. Time in hospital: Integer number of days between admission and discharge"
   ]
  },
  {
   "cell_type": "code",
   "execution_count": 149,
   "metadata": {},
   "outputs": [
    {
     "data": {
      "image/png": "[encoded data removed]",
      "text/plain": [
       "<Figure size 640x480 with 1 Axes>"
      ]
     },
     "metadata": {},
     "output_type": "display_data"
    }
   ],
   "source": [
    "sns.countplot(x='time_in_hospital',data=df)\n",
    "plt.show()"
   ]
  },
  {
   "cell_type": "markdown",
   "metadata": {},
   "source": [
    "The time in the hospital ranges from 1 day to 14 days.\n",
    "\n",
    "11. payer_code : Integer identifier corresponding to 23 distinct values, for example, Blue Cross/Blue Shield, Medicare, and self-pay Medical"
   ]
  },
  {
   "cell_type": "code",
   "execution_count": 150,
   "metadata": {},
   "outputs": [
    {
     "data": {
      "text/plain": [
       "payer_code\n",
       "?     40.020394\n",
       "MC    31.427159\n",
       "HM     6.230430\n",
       "SP     4.843029\n",
       "BC     4.621580\n",
       "MD     3.475198\n",
       "CP     2.468894\n",
       "UN     2.314395\n",
       "CM     1.916818\n",
       "OG     1.033083\n",
       "PO     0.599456\n",
       "DM     0.545897\n",
       "CH     0.144199\n",
       "WC     0.128749\n",
       "OT     0.094759\n",
       "MP     0.079309\n",
       "SI     0.056650\n",
       "Name: proportion, dtype: float64"
      ]
     },
     "execution_count": 150,
     "metadata": {},
     "output_type": "execute_result"
    }
   ],
   "source": [
    "df.payer_code.value_counts(1)*100"
   ]
  },
  {
   "cell_type": "markdown",
   "metadata": {},
   "source": [
    "Payer code has a significant number (approx. 40% )of missing values and it are not signification w.r.t the patient readmission so we can drop it."
   ]
  },
  {
   "cell_type": "code",
   "execution_count": 151,
   "metadata": {},
   "outputs": [],
   "source": [
    "df.drop(['payer_code'],axis=1,inplace=True)"
   ]
  },
  {
   "cell_type": "markdown",
   "metadata": {},
   "source": [
    "12. medical_specialty: Integer identifier of a specialty of the admitting physician, corresponding to 73 distinct values, for example, cardiology, internal medicine, family/general practice, and surgeon"
   ]
  },
  {
   "cell_type": "code",
   "execution_count": 152,
   "metadata": {},
   "outputs": [
    {
     "data": {
      "text/plain": [
       "73"
      ]
     },
     "execution_count": 152,
     "metadata": {},
     "output_type": "execute_result"
    }
   ],
   "source": [
    "df.medical_specialty.nunique()"
   ]
  },
  {
   "cell_type": "code",
   "execution_count": 153,
   "metadata": {},
   "outputs": [
    {
     "data": {
      "text/plain": [
       "medical_specialty\n",
       "?                                       48.869067\n",
       "InternalMedicine                        14.215969\n",
       "Emergency/Trauma                         7.616801\n",
       "Family/GeneralPractice                   7.296473\n",
       "Cardiology                               5.330216\n",
       "Surgery-General                          3.092040\n",
       "Nephrology                               1.564560\n",
       "Orthopedics                              1.410061\n",
       "Orthopedics-Reconstructive               1.222602\n",
       "Radiologist                              1.130933\n",
       "Psychiatry                               0.852835\n",
       "Pulmonology                              0.847685\n",
       "Urology                                  0.687006\n",
       "ObstetricsandGynecology                  0.666406\n",
       "Surgery-Cardiovascular/Thoracic          0.637566\n",
       "Gastroenterology                         0.550016\n",
       "Surgery-Vascular                         0.540747\n",
       "Surgery-Neuro                            0.462467\n",
       "PhysicalMedicineandRehabilitation        0.393457\n",
       "Oncology                                 0.327538\n",
       "Pediatrics                               0.255438\n",
       "Neurology                                0.202909\n",
       "Hematology/Oncology                      0.187459\n",
       "Pediatrics-Endocrinology                 0.163769\n",
       "Otolaryngology                           0.124629\n",
       "Endocrinology                            0.120509\n",
       "Surgery-Thoracic                         0.110209\n",
       "Surgery-Cardiovascular                   0.100939\n",
       "Psychology                               0.098879\n",
       "Podiatry                                 0.092699\n",
       "Pediatrics-CriticalCare                  0.088579\n",
       "Hematology                               0.077250\n",
       "Hospitalist                              0.058710\n",
       "Gynecology                               0.058710\n",
       "Radiology                                0.052530\n",
       "Surgeon                                  0.046350\n",
       "Surgery-Plastic                          0.040170\n",
       "Osteopath                                0.039140\n",
       "Ophthalmology                            0.038110\n",
       "InfectiousDiseases                       0.036050\n",
       "SurgicalSpecialty                        0.033990\n",
       "Pediatrics-Pulmonology                   0.025750\n",
       "Obsterics&Gynecology-GynecologicOnco     0.024720\n",
       "Obstetrics                               0.019570\n",
       "Anesthesiology-Pediatric                 0.019570\n",
       "Rheumatology                             0.017510\n",
       "Pathology                                0.016480\n",
       "OutreachServices                         0.012360\n",
       "Anesthesiology                           0.012360\n",
       "Surgery-Colon&Rectal                     0.011330\n",
       "Pediatrics-Neurology                     0.010300\n",
       "PhysicianNotFound                        0.010300\n",
       "Surgery-Maxillofacial                    0.009270\n",
       "Endocrinology-Metabolism                 0.008240\n",
       "Surgery-Pediatric                        0.008240\n",
       "AllergyandImmunology                     0.007210\n",
       "Cardiology-Pediatric                     0.007210\n",
       "Psychiatry-Child/Adolescent              0.007210\n",
       "DCPTEAM                                  0.005150\n",
       "Pediatrics-Hematology-Oncology           0.004120\n",
       "Dentistry                                0.004120\n",
       "Pediatrics-EmergencyMedicine             0.003090\n",
       "Pediatrics-AllergyandImmunology          0.003090\n",
       "Resident                                 0.002060\n",
       "Surgery-PlasticwithinHeadandNeck         0.001030\n",
       "Proctology                               0.001030\n",
       "Psychiatry-Addictive                     0.001030\n",
       "Dermatology                              0.001030\n",
       "SportsMedicine                           0.001030\n",
       "Speech                                   0.001030\n",
       "Perinatology                             0.001030\n",
       "Neurophysiology                          0.001030\n",
       "Pediatrics-InfectiousDiseases            0.001030\n",
       "Name: proportion, dtype: float64"
      ]
     },
     "execution_count": 153,
     "metadata": {},
     "output_type": "execute_result"
    }
   ],
   "source": [
    "df.medical_specialty.value_counts(1)*100"
   ]
  },
  {
   "cell_type": "markdown",
   "metadata": {},
   "source": [
    "There are 73 unique values here and a 48.8% of values are missing ('?') hence we drop this column."
   ]
  },
  {
   "cell_type": "code",
   "execution_count": 154,
   "metadata": {},
   "outputs": [],
   "source": [
    "df.drop(['medical_specialty'],axis=1,inplace=True)"
   ]
  },
  {
   "cell_type": "markdown",
   "metadata": {},
   "source": [
    "13. num_lab_procedures: Number of lab tests performed during the encounter"
   ]
  },
  {
   "cell_type": "code",
   "execution_count": 155,
   "metadata": {},
   "outputs": [
    {
     "name": "stdout",
     "output_type": "stream",
     "text": [
      "The number of lab tests a patient has undergone can range from 1 to 132\n"
     ]
    }
   ],
   "source": [
    "\n",
    "print('The number of lab tests a patient has undergone can range from',df.num_lab_procedures.min(),'to',df.num_lab_procedures.max())"
   ]
  },
  {
   "cell_type": "markdown",
   "metadata": {},
   "source": [
    "14. num_procedures: Number of procedures(other than lab tests) performed during the encounter"
   ]
  },
  {
   "cell_type": "code",
   "execution_count": 156,
   "metadata": {},
   "outputs": [
    {
     "data": {
      "text/plain": [
       "num_procedures\n",
       "0    44532\n",
       "1    19843\n",
       "2    12140\n",
       "3     9032\n",
       "6     4675\n",
       "4     3970\n",
       "5     2896\n",
       "Name: count, dtype: int64"
      ]
     },
     "execution_count": 156,
     "metadata": {},
     "output_type": "execute_result"
    }
   ],
   "source": [
    "df.num_procedures.value_counts()"
   ]
  },
  {
   "cell_type": "markdown",
   "metadata": {},
   "source": [
    "No of procedures range from 0 to 5\n",
    "\n",
    "15. num_medications: Number of distinct generic names administered during the encounter"
   ]
  },
  {
   "cell_type": "code",
   "execution_count": 157,
   "metadata": {},
   "outputs": [
    {
     "name": "stdout",
     "output_type": "stream",
     "text": [
      "The number of medications range from a minimum of 1 to maximum of 81\n"
     ]
    }
   ],
   "source": [
    "print('The number of medications range from a minimum of',df.num_medications.min(),'to maximum of',df.num_medications.max())"
   ]
  },
  {
   "cell_type": "markdown",
   "metadata": {},
   "source": [
    "16. number_outpatient: Number of outpatient visits of the patient in the year preceding the encounter \n",
    "\n",
    "17. number_emergency : Number of emergency visits of the patient in the year preceding the encounter\n",
    "\n",
    "18. number_inpatient: Number of inpatient visits of the patient in the year preceding the encounter "
   ]
  },
  {
   "cell_type": "markdown",
   "metadata": {},
   "source": [
    "19. Diagnosis1: The primary diagnosis(coded as first three digits of ICD9) \n",
    "\n",
    "20. Diagnosis2: Secondary diagnosis(coded as first three digits of ICD9)\n",
    "\n",
    "21. Diagnosis3: Additional secondary diagnosis(coded as first three digits of ICD9)"
   ]
  },
  {
   "cell_type": "code",
   "execution_count": 158,
   "metadata": {},
   "outputs": [],
   "source": [
    "df = df.reset_index(drop = True )"
   ]
  },
  {
   "cell_type": "code",
   "execution_count": 159,
   "metadata": {},
   "outputs": [],
   "source": [
    "diag_cols = ['diag_1','diag_2','diag_3']"
   ]
  },
  {
   "cell_type": "code",
   "execution_count": 160,
   "metadata": {},
   "outputs": [
    {
     "data": {
      "text/plain": [
       "(69, 86)"
      ]
     },
     "execution_count": 160,
     "metadata": {},
     "output_type": "execute_result"
    }
   ],
   "source": [
    "ord('E'), ord('V')"
   ]
  },
  {
   "cell_type": "code",
   "execution_count": 161,
   "metadata": {},
   "outputs": [],
   "source": [
    "for i in diag_cols:\n",
    "    for j in range(len(df[i])):\n",
    "        if str(df.loc[j, i])[:3] == '250':\n",
    "            df.loc[j, i] = 'Diabetes'\n",
    "        elif ord(str(df.loc[j, i])[0]) in range(69, 87):\n",
    "            df.loc[j, i] = 'External causes of injury'\n",
    "        elif df.loc[j, i] == '?':\n",
    "            df.loc[j, i] = 'Missing'\n",
    "        else:\n",
    "            x = float(df.loc[j, i])\n",
    "            if x in range(390, 460) or x == 785:\n",
    "                df.loc[j, i] = 'Circulatory'\n",
    "            elif x in range(460, 520) or x == 786:\n",
    "                df.loc[j, i] = 'Respiratory'\n",
    "            elif x in range(520, 580) or x == 787:\n",
    "                df.loc[j, i] = 'Digestive'\n",
    "            elif x in range(800, 1000):\n",
    "                df.loc[j, i] = 'Injury and Poisoning'\n",
    "            elif x in range(710, 740):\n",
    "                df.loc[j, i] = 'Musculoskeletal System and Connective Tissue'\n",
    "            elif x in range(580, 630) or x == 788:\n",
    "                df.loc[j, i] = 'Genitourinary'\n",
    "            elif x in range(140, 230):\n",
    "                df.loc[j, i] = 'Neoplasms'\n",
    "            elif x in [780, 781, 784] or x in range(790, 800):\n",
    "                df.loc[j, i] = 'Other Symptoms'\n",
    "            elif x in range(240, 280):\n",
    "                df.loc[j, i] = 'Endocrine, Nutritional, Metabolic, Immunity'\n",
    "            elif x in range(680, 710) or x == 782:\n",
    "                df.loc[j, i] = 'Skin and Subcutaneous Tissue'\n",
    "            elif x in range(1, 140):\n",
    "                df.loc[j, i] = 'Infectious and Parasitic'\n",
    "            elif x in range(290, 320):\n",
    "                df.loc[j, i] = 'Mental Disorders'\n",
    "            elif x in range(280, 290):\n",
    "                df.loc[j, i] = 'Blood and Blood-Forming Organs'\n",
    "            elif x in range(320, 360):\n",
    "                df.loc[j, i] = 'Nervous'\n",
    "            elif x in range(630, 680):\n",
    "                df.loc[j, i] = 'Pregnancy, Childbirth'\n",
    "            elif x in range(360, 390):\n",
    "                df.loc[j, i] = 'Sense Organs'\n",
    "            else:\n",
    "                df.loc[j, i] = 'Congenital Anomalies'"
   ]
  },
  {
   "cell_type": "code",
   "execution_count": 162,
   "metadata": {},
   "outputs": [],
   "source": [
    "for i in range(len(df['diag_2'])):\n",
    "    if df.loc[i, 'diag_2'] == 'Missing':\n",
    "        if df.loc[i, 'diag_1'] != 'Missing':\n",
    "            df.loc[i, 'diag_2'] = 'Not Required'"
   ]
  },
  {
   "cell_type": "code",
   "execution_count": 163,
   "metadata": {},
   "outputs": [],
   "source": [
    "for i in range(len(df['diag_3'])):\n",
    "    if df.loc[i, 'diag_3'] == 'Missing':\n",
    "        if df.loc[i, 'diag_2'] == 'Not Required' or df.loc[i, 'diag_2'] != 'Missing':\n",
    "            df.loc[i, 'diag_3'] = 'Not Required'"
   ]
  },
  {
   "cell_type": "code",
   "execution_count": 164,
   "metadata": {},
   "outputs": [],
   "source": [
    "df1 = pd.DataFrame(df['diag_1'].value_counts())\n",
    "df2 = df1.merge(pd.DataFrame(df['diag_2'].value_counts()), how = 'outer', left_index = True, right_index = True)\n",
    "df2=df2.merge(pd.DataFrame(df['diag_3'].value_counts()), how = 'outer', left_index = True, right_index = True)"
   ]
  },
  {
   "cell_type": "code",
   "execution_count": 165,
   "metadata": {},
   "outputs": [
    {
     "data": {
      "text/html": [
       "<div>\n",
       "<style scoped>\n",
       "    .dataframe tbody tr th:only-of-type {\n",
       "        vertical-align: middle;\n",
       "    }\n",
       "\n",
       "    .dataframe tbody tr th {\n",
       "        vertical-align: top;\n",
       "    }\n",
       "\n",
       "    .dataframe thead th {\n",
       "        text-align: right;\n",
       "    }\n",
       "</style>\n",
       "<table border=\"1\" class=\"dataframe\">\n",
       "  <thead>\n",
       "    <tr style=\"text-align: right;\">\n",
       "      <th></th>\n",
       "      <th>count_x</th>\n",
       "      <th>count_y</th>\n",
       "      <th>count</th>\n",
       "    </tr>\n",
       "  </thead>\n",
       "  <tbody>\n",
       "    <tr>\n",
       "      <th>Blood and Blood-Forming Organs</th>\n",
       "      <td>1078.0</td>\n",
       "      <td>2801.0</td>\n",
       "      <td>2402.0</td>\n",
       "    </tr>\n",
       "    <tr>\n",
       "      <th>Circulatory</th>\n",
       "      <td>29004.0</td>\n",
       "      <td>30465.0</td>\n",
       "      <td>28956.0</td>\n",
       "    </tr>\n",
       "    <tr>\n",
       "      <th>Congenital Anomalies</th>\n",
       "      <td>791.0</td>\n",
       "      <td>478.0</td>\n",
       "      <td>467.0</td>\n",
       "    </tr>\n",
       "    <tr>\n",
       "      <th>Diabetes</th>\n",
       "      <td>8471.0</td>\n",
       "      <td>12392.0</td>\n",
       "      <td>16540.0</td>\n",
       "    </tr>\n",
       "    <tr>\n",
       "      <th>Digestive</th>\n",
       "      <td>9154.0</td>\n",
       "      <td>3994.0</td>\n",
       "      <td>3781.0</td>\n",
       "    </tr>\n",
       "    <tr>\n",
       "      <th>Endocrine, Nutritional, Metabolic, Immunity</th>\n",
       "      <td>2553.0</td>\n",
       "      <td>7899.0</td>\n",
       "      <td>8726.0</td>\n",
       "    </tr>\n",
       "    <tr>\n",
       "      <th>External causes of injury</th>\n",
       "      <td>1595.0</td>\n",
       "      <td>2484.0</td>\n",
       "      <td>4938.0</td>\n",
       "    </tr>\n",
       "    <tr>\n",
       "      <th>Genitourinary</th>\n",
       "      <td>4912.0</td>\n",
       "      <td>8002.0</td>\n",
       "      <td>6289.0</td>\n",
       "    </tr>\n",
       "    <tr>\n",
       "      <th>Infectious and Parasitic</th>\n",
       "      <td>2487.0</td>\n",
       "      <td>1816.0</td>\n",
       "      <td>1773.0</td>\n",
       "    </tr>\n",
       "    <tr>\n",
       "      <th>Injury and Poisoning</th>\n",
       "      <td>6699.0</td>\n",
       "      <td>2302.0</td>\n",
       "      <td>1846.0</td>\n",
       "    </tr>\n",
       "    <tr>\n",
       "      <th>Mental Disorders</th>\n",
       "      <td>2174.0</td>\n",
       "      <td>2570.0</td>\n",
       "      <td>3028.0</td>\n",
       "    </tr>\n",
       "    <tr>\n",
       "      <th>Missing</th>\n",
       "      <td>18.0</td>\n",
       "      <td>NaN</td>\n",
       "      <td>NaN</td>\n",
       "    </tr>\n",
       "    <tr>\n",
       "      <th>Musculoskeletal System and Connective Tissue</th>\n",
       "      <td>4801.0</td>\n",
       "      <td>1711.0</td>\n",
       "      <td>1846.0</td>\n",
       "    </tr>\n",
       "    <tr>\n",
       "      <th>Neoplasms</th>\n",
       "      <td>2893.0</td>\n",
       "      <td>2246.0</td>\n",
       "      <td>1577.0</td>\n",
       "    </tr>\n",
       "    <tr>\n",
       "      <th>Nervous</th>\n",
       "      <td>902.0</td>\n",
       "      <td>1048.0</td>\n",
       "      <td>1398.0</td>\n",
       "    </tr>\n",
       "    <tr>\n",
       "      <th>Not Required</th>\n",
       "      <td>NaN</td>\n",
       "      <td>334.0</td>\n",
       "      <td>1345.0</td>\n",
       "    </tr>\n",
       "    <tr>\n",
       "      <th>Other Symptoms</th>\n",
       "      <td>2474.0</td>\n",
       "      <td>2319.0</td>\n",
       "      <td>2268.0</td>\n",
       "    </tr>\n",
       "    <tr>\n",
       "      <th>Pregnancy, Childbirth</th>\n",
       "      <td>668.0</td>\n",
       "      <td>406.0</td>\n",
       "      <td>301.0</td>\n",
       "    </tr>\n",
       "    <tr>\n",
       "      <th>Respiratory</th>\n",
       "      <td>13624.0</td>\n",
       "      <td>10165.0</td>\n",
       "      <td>6858.0</td>\n",
       "    </tr>\n",
       "    <tr>\n",
       "      <th>Sense Organs</th>\n",
       "      <td>254.0</td>\n",
       "      <td>156.0</td>\n",
       "      <td>254.0</td>\n",
       "    </tr>\n",
       "    <tr>\n",
       "      <th>Skin and Subcutaneous Tissue</th>\n",
       "      <td>2536.0</td>\n",
       "      <td>3500.0</td>\n",
       "      <td>2495.0</td>\n",
       "    </tr>\n",
       "  </tbody>\n",
       "</table>\n",
       "</div>"
      ],
      "text/plain": [
       "                                              count_x  count_y    count\n",
       "Blood and Blood-Forming Organs                 1078.0   2801.0   2402.0\n",
       "Circulatory                                   29004.0  30465.0  28956.0\n",
       "Congenital Anomalies                            791.0    478.0    467.0\n",
       "Diabetes                                       8471.0  12392.0  16540.0\n",
       "Digestive                                      9154.0   3994.0   3781.0\n",
       "Endocrine, Nutritional, Metabolic, Immunity    2553.0   7899.0   8726.0\n",
       "External causes of injury                      1595.0   2484.0   4938.0\n",
       "Genitourinary                                  4912.0   8002.0   6289.0\n",
       "Infectious and Parasitic                       2487.0   1816.0   1773.0\n",
       "Injury and Poisoning                           6699.0   2302.0   1846.0\n",
       "Mental Disorders                               2174.0   2570.0   3028.0\n",
       "Missing                                          18.0      NaN      NaN\n",
       "Musculoskeletal System and Connective Tissue   4801.0   1711.0   1846.0\n",
       "Neoplasms                                      2893.0   2246.0   1577.0\n",
       "Nervous                                         902.0   1048.0   1398.0\n",
       "Not Required                                      NaN    334.0   1345.0\n",
       "Other Symptoms                                 2474.0   2319.0   2268.0\n",
       "Pregnancy, Childbirth                           668.0    406.0    301.0\n",
       "Respiratory                                   13624.0  10165.0   6858.0\n",
       "Sense Organs                                    254.0    156.0    254.0\n",
       "Skin and Subcutaneous Tissue                   2536.0   3500.0   2495.0"
      ]
     },
     "execution_count": 165,
     "metadata": {},
     "output_type": "execute_result"
    }
   ],
   "source": [
    "df2"
   ]
  },
  {
   "cell_type": "code",
   "execution_count": 166,
   "metadata": {},
   "outputs": [
    {
     "data": {
      "text/plain": [
       "18"
      ]
     },
     "execution_count": 166,
     "metadata": {},
     "output_type": "execute_result"
    }
   ],
   "source": [
    "len(df[df['diag_1'] == 'Missing'])"
   ]
  },
  {
   "cell_type": "code",
   "execution_count": 167,
   "metadata": {},
   "outputs": [],
   "source": [
    "#dropping any missing values present in diag_1.\n",
    "df = df[df['diag_1'] != 'Missing']"
   ]
  },
  {
   "cell_type": "markdown",
   "metadata": {},
   "source": [
    "23. number_diagnoses: Number of diagnoses entered to the system"
   ]
  },
  {
   "cell_type": "code",
   "execution_count": 168,
   "metadata": {},
   "outputs": [
    {
     "data": {
      "text/plain": [
       "<Axes: xlabel='number_diagnoses', ylabel='count'>"
      ]
     },
     "execution_count": 168,
     "metadata": {},
     "output_type": "execute_result"
    },
    {
     "data": {
      "image/png": "[encoded data removed]",
      "text/plain": [
       "<Figure size 640x480 with 1 Axes>"
      ]
     },
     "metadata": {},
     "output_type": "display_data"
    }
   ],
   "source": [
    "sns.countplot(x='number_diagnoses',data=df)"
   ]
  },
  {
   "cell_type": "markdown",
   "metadata": {},
   "source": [
    "The number of diagonses entered into the system range from 1 to 16.\n",
    "\n",
    "23. max_glu_serum: Indicates the range of the result or if the test was not taken.\n",
    "\n",
    "Values:“>200,”“>300,” “normal,”and“none” if not measured     \n"
   ]
  },
  {
   "cell_type": "code",
   "execution_count": 169,
   "metadata": {},
   "outputs": [
    {
     "data": {
      "text/plain": [
       "max_glu_serum\n",
       "Norm    2517\n",
       ">200    1397\n",
       ">300    1178\n",
       "Name: count, dtype: int64"
      ]
     },
     "execution_count": 169,
     "metadata": {},
     "output_type": "execute_result"
    }
   ],
   "source": [
    "df.max_glu_serum.value_counts()"
   ]
  },
  {
   "cell_type": "markdown",
   "metadata": {},
   "source": [
    "24. A1Cresult: Indicates the range of the result or if the test was not taken."
   ]
  },
  {
   "cell_type": "code",
   "execution_count": 170,
   "metadata": {},
   "outputs": [
    {
     "data": {
      "text/plain": [
       "A1Cresult\n",
       ">8      7881\n",
       "Norm    4836\n",
       ">7      3691\n",
       "Name: count, dtype: int64"
      ]
     },
     "execution_count": 170,
     "metadata": {},
     "output_type": "execute_result"
    }
   ],
   "source": [
    "df.A1Cresult.value_counts()"
   ]
  },
  {
   "cell_type": "markdown",
   "metadata": {},
   "source": [
    "Values: “>8” if the result was greater than 8%\n",
    "    \n",
    "        “>7” if the result was greater than 7% but less than 8%\n",
    "        \n",
    "        “normal” if the result was less than 7%\n",
    "        \n",
    "        “none” if not measured."
   ]
  },
  {
   "cell_type": "markdown",
   "metadata": {},
   "source": [
    "24. features for medications :\n",
    "    \n",
    "For the generic names : metformin, repaglinide, nateglinide, chlorpropamide, glimepiride, acetohexamide, glipizide, glyburide, tolbutamide, pioglitazone, rosiglitazone, acarbose, miglitol, troglitazone, tolazamide, examide, sitagliptin, insulin, glyburide-metformin, glipizide-metformin, glimepiride-pioglitazone, metformin-rosiglitazone, and metformin-pioglitazone"
   ]
  },
  {
   "cell_type": "markdown",
   "metadata": {},
   "source": [
    "The feature indicates whether the drug was prescribed or there was a change in the dosage.\n",
    "\n",
    "Values: “up” if the dosage was increased during the encounter\n",
    "\n",
    "        “down” if the dosage was decreased\n",
    "        \n",
    "        “steady” if the dosage did not change\n",
    "        \n",
    "        “no” if the drug was not prescribed"
   ]
  },
  {
   "cell_type": "code",
   "execution_count": 171,
   "metadata": {},
   "outputs": [
    {
     "name": "stdout",
     "output_type": "stream",
     "text": [
      "metformin ['No' 'Steady' 'Up' 'Down']\n",
      "repaglinide ['No' 'Up' 'Steady' 'Down']\n",
      "nateglinide ['No' 'Steady' 'Down' 'Up']\n",
      "chlorpropamide ['No' 'Steady' 'Down' 'Up']\n",
      "glimepiride ['No' 'Steady' 'Down' 'Up']\n",
      "acetohexamide ['No' 'Steady']\n",
      "glipizide ['No' 'Steady' 'Up' 'Down']\n",
      "glyburide ['No' 'Steady' 'Up' 'Down']\n",
      "tolbutamide ['No' 'Steady']\n",
      "pioglitazone ['No' 'Steady' 'Up' 'Down']\n",
      "rosiglitazone ['No' 'Steady' 'Up' 'Down']\n",
      "acarbose ['No' 'Steady' 'Up' 'Down']\n",
      "miglitol ['No' 'Steady' 'Down' 'Up']\n",
      "troglitazone ['No' 'Steady']\n",
      "tolazamide ['No' 'Steady' 'Up']\n",
      "examide ['No']\n",
      "citoglipton ['No']\n",
      "insulin ['No' 'Up' 'Steady' 'Down']\n",
      "glyburide-metformin ['No' 'Steady' 'Down' 'Up']\n",
      "glipizide-metformin ['No' 'Steady']\n",
      "glimepiride-pioglitazone ['No' 'Steady']\n",
      "metformin-rosiglitazone ['No']\n",
      "metformin-pioglitazone ['No' 'Steady']\n"
     ]
    }
   ],
   "source": [
    "meds = ['metformin', 'repaglinide', 'nateglinide', 'chlorpropamide',\n",
    "       'glimepiride', 'acetohexamide', 'glipizide', 'glyburide', 'tolbutamide',\n",
    "       'pioglitazone', 'rosiglitazone', 'acarbose', 'miglitol', 'troglitazone',\n",
    "       'tolazamide', 'examide', 'citoglipton', 'insulin',\n",
    "       'glyburide-metformin', 'glipizide-metformin',\n",
    "       'glimepiride-pioglitazone', 'metformin-rosiglitazone',\n",
    "       'metformin-pioglitazone']\n",
    "\n",
    "for i in meds:\n",
    "       print(i, df[i].unique())"
   ]
  },
  {
   "cell_type": "code",
   "execution_count": 172,
   "metadata": {},
   "outputs": [],
   "source": [
    "# We can drop examide, citoglipton and metformin-rosiglitazone as it is not prescribed to any patient.\n",
    "df.drop(['examide', 'citoglipton','metformin-rosiglitazone'], axis = 1, inplace = True)"
   ]
  },
  {
   "cell_type": "code",
   "execution_count": 173,
   "metadata": {},
   "outputs": [],
   "source": [
    "meds = ['metformin', 'repaglinide', 'nateglinide', 'chlorpropamide',\n",
    "       'glimepiride', 'acetohexamide', 'glipizide', 'glyburide', 'tolbutamide',\n",
    "       'pioglitazone', 'rosiglitazone', 'acarbose', 'miglitol', 'troglitazone',\n",
    "       'tolazamide', 'insulin', 'glyburide-metformin', 'glipizide-metformin',\n",
    "       'glimepiride-pioglitazone', 'metformin-pioglitazone']"
   ]
  },
  {
   "cell_type": "code",
   "execution_count": 174,
   "metadata": {},
   "outputs": [],
   "source": [
    "# The medicines can be encoded as below \n",
    "for i in meds:\n",
    "    df[i] = df[i].replace({'No' : -2,\n",
    "                           'Down' : -1,\n",
    "                           'Steady' : 0,\n",
    "                           'Up' : 1})"
   ]
  },
  {
   "cell_type": "code",
   "execution_count": 175,
   "metadata": {},
   "outputs": [],
   "source": [
    "for i in meds:\n",
    "    df[i] = df[i].astype('int64')"
   ]
  },
  {
   "cell_type": "markdown",
   "metadata": {},
   "source": [
    "25. change :  Indicates if there was a change in diabetic medications (either dosage or generic name)"
   ]
  },
  {
   "cell_type": "code",
   "execution_count": 176,
   "metadata": {},
   "outputs": [
    {
     "data": {
      "text/plain": [
       "change\n",
       "No    52046\n",
       "Ch    45024\n",
       "Name: count, dtype: int64"
      ]
     },
     "execution_count": 176,
     "metadata": {},
     "output_type": "execute_result"
    }
   ],
   "source": [
    "df.change.value_counts()"
   ]
  },
  {
   "cell_type": "code",
   "execution_count": 177,
   "metadata": {},
   "outputs": [],
   "source": [
    "df['change'] = df['change'].replace({'No' : 0, 'Ch' : 1})"
   ]
  },
  {
   "cell_type": "markdown",
   "metadata": {},
   "source": [
    "26. diabetesMed : Indicates if there was any diabetic medication prescribed."
   ]
  },
  {
   "cell_type": "code",
   "execution_count": 178,
   "metadata": {},
   "outputs": [
    {
     "data": {
      "text/plain": [
       "diabetesMed\n",
       "Yes    74842\n",
       "No     22228\n",
       "Name: count, dtype: int64"
      ]
     },
     "execution_count": 178,
     "metadata": {},
     "output_type": "execute_result"
    }
   ],
   "source": [
    "df.diabetesMed.value_counts()"
   ]
  },
  {
   "cell_type": "code",
   "execution_count": 179,
   "metadata": {},
   "outputs": [],
   "source": [
    "df['diabetesMed'] = df['diabetesMed'].replace({'Yes' : 1, 'No' : 0})"
   ]
  },
  {
   "cell_type": "markdown",
   "metadata": {},
   "source": [
    "27. readmitted: Outcome variable\n",
    "\n",
    "The outcome we are looking at is whether the patient gets readmitted to the hospital within 30 days or not."
   ]
  },
  {
   "cell_type": "code",
   "execution_count": 180,
   "metadata": {},
   "outputs": [
    {
     "data": {
      "text/plain": [
       "readmitted\n",
       "NO     50995\n",
       ">30    34955\n",
       "<30    11120\n",
       "Name: count, dtype: int64"
      ]
     },
     "execution_count": 180,
     "metadata": {},
     "output_type": "execute_result"
    }
   ],
   "source": [
    "df.readmitted.value_counts()"
   ]
  },
  {
   "cell_type": "markdown",
   "metadata": {},
   "source": [
    "The outcome actually has < 30, > 30 and No Readmission categories.So w.r.t. our problem we will convert this into 2 categories i.e No readmission or readmission with in 30 days"
   ]
  },
  {
   "cell_type": "code",
   "execution_count": 181,
   "metadata": {},
   "outputs": [],
   "source": [
    "df['readmitted'] = df['readmitted'].replace('>30', 'NO')\n",
    "df['readmitted']= df['readmitted'].replace( {'NO': 0, '<30': 1} ).astype(int)"
   ]
  },
  {
   "cell_type": "code",
   "execution_count": 182,
   "metadata": {},
   "outputs": [],
   "source": [
    "df.reset_index(drop = True, inplace = True)"
   ]
  },
  {
   "cell_type": "markdown",
   "metadata": {
    "jp-MarkdownHeadingCollapsed": true
   },
   "source": [
    "### Creating New Features and Dropping Redundant Ones\n",
    "\n",
    "#### 1. Preceding year visits:\n",
    "‘number_outpatient’, ‘number_emergency’, ‘number_inpatient’ were combined together by adding them up to get total visits of the patient in the previous year and then dropping the combining features.\n"
   ]
  },
  {
   "cell_type": "code",
   "execution_count": 183,
   "metadata": {},
   "outputs": [],
   "source": [
    "df['preceding_year_visits']=df['number_outpatient']+df['number_emergency']+df['number_inpatient']"
   ]
  },
  {
   "cell_type": "code",
   "execution_count": 184,
   "metadata": {},
   "outputs": [],
   "source": [
    "# Dropping ‘number_outpatient’, ‘number_emergency’, ‘number_inpatient’\n",
    "df = df.drop(columns=['number_outpatient', 'number_emergency','number_inpatient'])"
   ]
  },
  {
   "cell_type": "markdown",
   "metadata": {},
   "source": [
    "#### 2. Number of Medicines Changes"
   ]
  },
  {
   "cell_type": "code",
   "execution_count": 185,
   "metadata": {},
   "outputs": [],
   "source": [
    "df['number_changes'] = np.nan\n",
    "for i in range(len(df)):\n",
    "    n = 0\n",
    "    for j in meds:\n",
    "        if df.loc[i, j] == -1 or df.loc[i, j] == 1:\n",
    "            n += 1\n",
    "    df.loc[i, 'number_changes'] = n"
   ]
  },
  {
   "cell_type": "code",
   "execution_count": 186,
   "metadata": {
    "scrolled": true
   },
   "outputs": [
    {
     "data": {
      "text/plain": [
       "number_changes\n",
       "0.0    70599\n",
       "1.0    25081\n",
       "2.0     1279\n",
       "3.0      106\n",
       "4.0        5\n",
       "Name: count, dtype: int64"
      ]
     },
     "execution_count": 186,
     "metadata": {},
     "output_type": "execute_result"
    }
   ],
   "source": [
    "df['number_changes'].value_counts()"
   ]
  },
  {
   "cell_type": "markdown",
   "metadata": {},
   "source": [
    "**3. Number of diabetic medicine**"
   ]
  },
  {
   "cell_type": "code",
   "execution_count": 187,
   "metadata": {},
   "outputs": [
    {
     "data": {
      "text/plain": [
       "number_diab_meds\n",
       "1    44940\n",
       "0    22228\n",
       "2    21038\n",
       "3     7504\n",
       "4     1298\n",
       "5       57\n",
       "6        5\n",
       "Name: count, dtype: int64"
      ]
     },
     "execution_count": 187,
     "metadata": {},
     "output_type": "execute_result"
    }
   ],
   "source": [
    "df['number_diab_meds'] = np.nan\n",
    "for i in range(len(df)):\n",
    "    n = 0\n",
    "    for j in meds:\n",
    "        if df.loc[i, j] != -2:\n",
    "            n += 1\n",
    "    df.loc[i, 'number_diab_meds'] = n\n",
    "df.number_diab_meds=df.number_diab_meds.astype('int64')\n",
    "df['number_diab_meds'].value_counts()"
   ]
  },
  {
   "cell_type": "markdown",
   "metadata": {},
   "source": [
    "#### 4. Insulin_treatment"
   ]
  },
  {
   "cell_type": "code",
   "execution_count": 188,
   "metadata": {},
   "outputs": [],
   "source": [
    "df['insulin_treatment'] = np.nan"
   ]
  },
  {
   "cell_type": "code",
   "execution_count": 189,
   "metadata": {
    "scrolled": true
   },
   "outputs": [
    {
     "data": {
      "text/plain": [
       "insulin_treatment\n",
       "insulin_only     29118\n",
       "other_meds       23259\n",
       "insulin_combo    22465\n",
       "no_med           22228\n",
       "Name: count, dtype: int64"
      ]
     },
     "execution_count": 189,
     "metadata": {},
     "output_type": "execute_result"
    }
   ],
   "source": [
    "for i in range(len(df)):\n",
    "    if df.loc[i, 'insulin'] != -2 and df.loc[i, 'number_diab_meds'] == 1:\n",
    "        df.loc[i, 'insulin_treatment'] = 'insulin_only'\n",
    "    elif df.loc[i, 'insulin'] != -2 and df.loc[i, 'number_diab_meds'] > 1:\n",
    "        df.loc[i, 'insulin_treatment'] = 'insulin_combo'\n",
    "    elif df.loc[i, 'insulin'] == -2 and df.loc[i, 'number_diab_meds'] == 0:\n",
    "        df.loc[i, 'insulin_treatment'] = 'no_med'\n",
    "    else:\n",
    "        df.loc[i, 'insulin_treatment'] = 'other_meds'\n",
    "df['insulin_treatment'].value_counts()"
   ]
  },
  {
   "cell_type": "code",
   "execution_count": 190,
   "metadata": {},
   "outputs": [],
   "source": [
    "# number_diab_meds was inly created to make the column insulin treatment, Hence we drop it\n",
    "df = df.drop(columns=['number_diab_meds'])\n",
    "df.reset_index(drop = True, inplace = True)"
   ]
  },
  {
   "cell_type": "markdown",
   "metadata": {},
   "source": [
    "### Statistical tests "
   ]
  },
  {
   "cell_type": "code",
   "execution_count": 191,
   "metadata": {},
   "outputs": [],
   "source": [
    "# Numerical features\n",
    "num_cols = ['age', 'time_in_hospital', 'num_lab_procedures', 'num_procedures', 'num_medications',\n",
    "            'number_diagnoses','preceding_year_visits', 'number_changes']"
   ]
  },
  {
   "cell_type": "code",
   "execution_count": 192,
   "metadata": {},
   "outputs": [],
   "source": [
    "# Categorical features\n",
    "cat_cols = ['race', 'gender', 'admission_type_id', 'discharge_disposition_id', 'admission_source_id',\n",
    "            'diag_1', 'diag_2', 'diag_3', 'max_glu_serum', 'A1Cresult', 'metformin', 'repaglinide', \n",
    "            'nateglinide', 'chlorpropamide', 'glimepiride', 'acetohexamide', 'glipizide', 'glyburide', \n",
    "            'tolbutamide', 'pioglitazone', 'rosiglitazone', 'acarbose', 'miglitol', 'troglitazone',\n",
    "            'tolazamide', 'insulin', 'glyburide-metformin', 'glipizide-metformin', \n",
    "            'glimepiride-pioglitazone', 'metformin-rosiglitazone', 'metformin-pioglitazone', \n",
    "            'change', 'diabetesMed', 'insulin_treatment']"
   ]
  },
  {
   "cell_type": "code",
   "execution_count": 193,
   "metadata": {
    "scrolled": true
   },
   "outputs": [
    {
     "data": {
      "text/plain": [
       "(97070, 42)"
      ]
     },
     "execution_count": 193,
     "metadata": {},
     "output_type": "execute_result"
    }
   ],
   "source": [
    "df.shape"
   ]
  },
  {
   "cell_type": "code",
   "execution_count": 194,
   "metadata": {},
   "outputs": [
    {
     "data": {
      "text/plain": [
       "42"
      ]
     },
     "execution_count": 194,
     "metadata": {},
     "output_type": "execute_result"
    }
   ],
   "source": [
    "len(num_cols)+len(cat_cols)"
   ]
  },
  {
   "cell_type": "markdown",
   "metadata": {},
   "source": [
    "#### Chi Square for categorical v/s categorical and one way anova for categorical v/s numerical\n",
    "\n",
    "To see if the features are significant w.r.t to the target variable (readmitted)"
   ]
  },
  {
   "cell_type": "code",
   "execution_count": 195,
   "metadata": {},
   "outputs": [
    {
     "data": {
      "text/html": [
       "<div>\n",
       "<style scoped>\n",
       "    .dataframe tbody tr th:only-of-type {\n",
       "        vertical-align: middle;\n",
       "    }\n",
       "\n",
       "    .dataframe tbody tr th {\n",
       "        vertical-align: top;\n",
       "    }\n",
       "\n",
       "    .dataframe thead th {\n",
       "        text-align: right;\n",
       "    }\n",
       "</style>\n",
       "<table border=\"1\" class=\"dataframe\">\n",
       "  <thead>\n",
       "    <tr style=\"text-align: right;\">\n",
       "      <th></th>\n",
       "      <th>columns</th>\n",
       "      <th>p_value</th>\n",
       "      <th>significance</th>\n",
       "    </tr>\n",
       "  </thead>\n",
       "  <tbody>\n",
       "    <tr>\n",
       "      <th>39</th>\n",
       "      <td>preceding_year_visits</td>\n",
       "      <td>0.000000e+00</td>\n",
       "      <td>Significant</td>\n",
       "    </tr>\n",
       "    <tr>\n",
       "      <th>38</th>\n",
       "      <td>readmitted</td>\n",
       "      <td>0.000000e+00</td>\n",
       "      <td>Significant</td>\n",
       "    </tr>\n",
       "    <tr>\n",
       "      <th>4</th>\n",
       "      <td>discharge_disposition_id</td>\n",
       "      <td>1.002865e-175</td>\n",
       "      <td>Significant</td>\n",
       "    </tr>\n",
       "    <tr>\n",
       "      <th>13</th>\n",
       "      <td>number_diagnoses</td>\n",
       "      <td>1.181113e-62</td>\n",
       "      <td>Significant</td>\n",
       "    </tr>\n",
       "    <tr>\n",
       "      <th>6</th>\n",
       "      <td>time_in_hospital</td>\n",
       "      <td>6.893070e-49</td>\n",
       "      <td>Significant</td>\n",
       "    </tr>\n",
       "    <tr>\n",
       "      <th>31</th>\n",
       "      <td>insulin</td>\n",
       "      <td>1.450024e-43</td>\n",
       "      <td>Significant</td>\n",
       "    </tr>\n",
       "    <tr>\n",
       "      <th>9</th>\n",
       "      <td>num_medications</td>\n",
       "      <td>1.128847e-39</td>\n",
       "      <td>Significant</td>\n",
       "    </tr>\n",
       "    <tr>\n",
       "      <th>41</th>\n",
       "      <td>insulin_treatment</td>\n",
       "      <td>1.750135e-39</td>\n",
       "      <td>Significant</td>\n",
       "    </tr>\n",
       "    <tr>\n",
       "      <th>40</th>\n",
       "      <td>number_changes</td>\n",
       "      <td>3.627420e-30</td>\n",
       "      <td>Significant</td>\n",
       "    </tr>\n",
       "    <tr>\n",
       "      <th>12</th>\n",
       "      <td>diag_3</td>\n",
       "      <td>5.426864e-30</td>\n",
       "      <td>Significant</td>\n",
       "    </tr>\n",
       "    <tr>\n",
       "      <th>10</th>\n",
       "      <td>diag_1</td>\n",
       "      <td>7.642047e-28</td>\n",
       "      <td>Significant</td>\n",
       "    </tr>\n",
       "    <tr>\n",
       "      <th>11</th>\n",
       "      <td>diag_2</td>\n",
       "      <td>1.229337e-19</td>\n",
       "      <td>Significant</td>\n",
       "    </tr>\n",
       "    <tr>\n",
       "      <th>37</th>\n",
       "      <td>diabetesMed</td>\n",
       "      <td>2.949361e-16</td>\n",
       "      <td>Significant</td>\n",
       "    </tr>\n",
       "    <tr>\n",
       "      <th>16</th>\n",
       "      <td>metformin</td>\n",
       "      <td>2.759957e-15</td>\n",
       "      <td>Significant</td>\n",
       "    </tr>\n",
       "    <tr>\n",
       "      <th>7</th>\n",
       "      <td>num_lab_procedures</td>\n",
       "      <td>3.503248e-14</td>\n",
       "      <td>Significant</td>\n",
       "    </tr>\n",
       "    <tr>\n",
       "      <th>2</th>\n",
       "      <td>age</td>\n",
       "      <td>3.275694e-11</td>\n",
       "      <td>Significant</td>\n",
       "    </tr>\n",
       "    <tr>\n",
       "      <th>5</th>\n",
       "      <td>admission_source_id</td>\n",
       "      <td>1.937846e-09</td>\n",
       "      <td>Significant</td>\n",
       "    </tr>\n",
       "    <tr>\n",
       "      <th>36</th>\n",
       "      <td>change</td>\n",
       "      <td>4.233463e-09</td>\n",
       "      <td>Significant</td>\n",
       "    </tr>\n",
       "    <tr>\n",
       "      <th>3</th>\n",
       "      <td>admission_type_id</td>\n",
       "      <td>7.471160e-06</td>\n",
       "      <td>Significant</td>\n",
       "    </tr>\n",
       "    <tr>\n",
       "      <th>8</th>\n",
       "      <td>num_procedures</td>\n",
       "      <td>1.530071e-03</td>\n",
       "      <td>Significant</td>\n",
       "    </tr>\n",
       "    <tr>\n",
       "      <th>22</th>\n",
       "      <td>glipizide</td>\n",
       "      <td>6.078898e-03</td>\n",
       "      <td>Significant</td>\n",
       "    </tr>\n",
       "    <tr>\n",
       "      <th>17</th>\n",
       "      <td>repaglinide</td>\n",
       "      <td>1.001026e-02</td>\n",
       "      <td>Significant</td>\n",
       "    </tr>\n",
       "    <tr>\n",
       "      <th>14</th>\n",
       "      <td>max_glu_serum</td>\n",
       "      <td>1.223504e-02</td>\n",
       "      <td>Significant</td>\n",
       "    </tr>\n",
       "    <tr>\n",
       "      <th>20</th>\n",
       "      <td>glimepiride</td>\n",
       "      <td>4.203875e-02</td>\n",
       "      <td>Significant</td>\n",
       "    </tr>\n",
       "    <tr>\n",
       "      <th>25</th>\n",
       "      <td>pioglitazone</td>\n",
       "      <td>4.487769e-02</td>\n",
       "      <td>Significant</td>\n",
       "    </tr>\n",
       "    <tr>\n",
       "      <th>26</th>\n",
       "      <td>rosiglitazone</td>\n",
       "      <td>7.245006e-02</td>\n",
       "      <td>Insignificant</td>\n",
       "    </tr>\n",
       "    <tr>\n",
       "      <th>23</th>\n",
       "      <td>glyburide</td>\n",
       "      <td>1.143482e-01</td>\n",
       "      <td>Insignificant</td>\n",
       "    </tr>\n",
       "    <tr>\n",
       "      <th>0</th>\n",
       "      <td>race</td>\n",
       "      <td>1.263105e-01</td>\n",
       "      <td>Insignificant</td>\n",
       "    </tr>\n",
       "    <tr>\n",
       "      <th>28</th>\n",
       "      <td>miglitol</td>\n",
       "      <td>1.688638e-01</td>\n",
       "      <td>Insignificant</td>\n",
       "    </tr>\n",
       "    <tr>\n",
       "      <th>27</th>\n",
       "      <td>acarbose</td>\n",
       "      <td>2.389868e-01</td>\n",
       "      <td>Insignificant</td>\n",
       "    </tr>\n",
       "    <tr>\n",
       "      <th>1</th>\n",
       "      <td>gender</td>\n",
       "      <td>4.095739e-01</td>\n",
       "      <td>Insignificant</td>\n",
       "    </tr>\n",
       "    <tr>\n",
       "      <th>19</th>\n",
       "      <td>chlorpropamide</td>\n",
       "      <td>4.419945e-01</td>\n",
       "      <td>Insignificant</td>\n",
       "    </tr>\n",
       "    <tr>\n",
       "      <th>24</th>\n",
       "      <td>tolbutamide</td>\n",
       "      <td>5.785498e-01</td>\n",
       "      <td>Insignificant</td>\n",
       "    </tr>\n",
       "    <tr>\n",
       "      <th>18</th>\n",
       "      <td>nateglinide</td>\n",
       "      <td>6.970633e-01</td>\n",
       "      <td>Insignificant</td>\n",
       "    </tr>\n",
       "    <tr>\n",
       "      <th>32</th>\n",
       "      <td>glyburide-metformin</td>\n",
       "      <td>7.088183e-01</td>\n",
       "      <td>Insignificant</td>\n",
       "    </tr>\n",
       "    <tr>\n",
       "      <th>30</th>\n",
       "      <td>tolazamide</td>\n",
       "      <td>7.391046e-01</td>\n",
       "      <td>Insignificant</td>\n",
       "    </tr>\n",
       "    <tr>\n",
       "      <th>15</th>\n",
       "      <td>A1Cresult</td>\n",
       "      <td>8.117090e-01</td>\n",
       "      <td>Insignificant</td>\n",
       "    </tr>\n",
       "    <tr>\n",
       "      <th>33</th>\n",
       "      <td>glipizide-metformin</td>\n",
       "      <td>1.000000e+00</td>\n",
       "      <td>Insignificant</td>\n",
       "    </tr>\n",
       "    <tr>\n",
       "      <th>34</th>\n",
       "      <td>glimepiride-pioglitazone</td>\n",
       "      <td>1.000000e+00</td>\n",
       "      <td>Insignificant</td>\n",
       "    </tr>\n",
       "    <tr>\n",
       "      <th>35</th>\n",
       "      <td>metformin-pioglitazone</td>\n",
       "      <td>1.000000e+00</td>\n",
       "      <td>Insignificant</td>\n",
       "    </tr>\n",
       "    <tr>\n",
       "      <th>29</th>\n",
       "      <td>troglitazone</td>\n",
       "      <td>1.000000e+00</td>\n",
       "      <td>Insignificant</td>\n",
       "    </tr>\n",
       "    <tr>\n",
       "      <th>21</th>\n",
       "      <td>acetohexamide</td>\n",
       "      <td>1.000000e+00</td>\n",
       "      <td>Insignificant</td>\n",
       "    </tr>\n",
       "  </tbody>\n",
       "</table>\n",
       "</div>"
      ],
      "text/plain": [
       "                     columns        p_value   significance\n",
       "39     preceding_year_visits   0.000000e+00    Significant\n",
       "38                readmitted   0.000000e+00    Significant\n",
       "4   discharge_disposition_id  1.002865e-175    Significant\n",
       "13          number_diagnoses   1.181113e-62    Significant\n",
       "6           time_in_hospital   6.893070e-49    Significant\n",
       "31                   insulin   1.450024e-43    Significant\n",
       "9            num_medications   1.128847e-39    Significant\n",
       "41         insulin_treatment   1.750135e-39    Significant\n",
       "40            number_changes   3.627420e-30    Significant\n",
       "12                    diag_3   5.426864e-30    Significant\n",
       "10                    diag_1   7.642047e-28    Significant\n",
       "11                    diag_2   1.229337e-19    Significant\n",
       "37               diabetesMed   2.949361e-16    Significant\n",
       "16                 metformin   2.759957e-15    Significant\n",
       "7         num_lab_procedures   3.503248e-14    Significant\n",
       "2                        age   3.275694e-11    Significant\n",
       "5        admission_source_id   1.937846e-09    Significant\n",
       "36                    change   4.233463e-09    Significant\n",
       "3          admission_type_id   7.471160e-06    Significant\n",
       "8             num_procedures   1.530071e-03    Significant\n",
       "22                 glipizide   6.078898e-03    Significant\n",
       "17               repaglinide   1.001026e-02    Significant\n",
       "14             max_glu_serum   1.223504e-02    Significant\n",
       "20               glimepiride   4.203875e-02    Significant\n",
       "25              pioglitazone   4.487769e-02    Significant\n",
       "26             rosiglitazone   7.245006e-02  Insignificant\n",
       "23                 glyburide   1.143482e-01  Insignificant\n",
       "0                       race   1.263105e-01  Insignificant\n",
       "28                  miglitol   1.688638e-01  Insignificant\n",
       "27                  acarbose   2.389868e-01  Insignificant\n",
       "1                     gender   4.095739e-01  Insignificant\n",
       "19            chlorpropamide   4.419945e-01  Insignificant\n",
       "24               tolbutamide   5.785498e-01  Insignificant\n",
       "18               nateglinide   6.970633e-01  Insignificant\n",
       "32       glyburide-metformin   7.088183e-01  Insignificant\n",
       "30                tolazamide   7.391046e-01  Insignificant\n",
       "15                 A1Cresult   8.117090e-01  Insignificant\n",
       "33       glipizide-metformin   1.000000e+00  Insignificant\n",
       "34  glimepiride-pioglitazone   1.000000e+00  Insignificant\n",
       "35    metformin-pioglitazone   1.000000e+00  Insignificant\n",
       "29              troglitazone   1.000000e+00  Insignificant\n",
       "21             acetohexamide   1.000000e+00  Insignificant"
      ]
     },
     "execution_count": 195,
     "metadata": {},
     "output_type": "execute_result"
    }
   ],
   "source": [
    "#Statistical Tests (Chi Square and Anova)\n",
    "\n",
    "p_val = []\n",
    "sig = []\n",
    "for i in df.columns:\n",
    "    if i in num_cols:\n",
    "        stat, p = stats.f_oneway(df[df['readmitted'] == 0][i], df[df['readmitted'] == 1][i])\n",
    "    else:\n",
    "        ct = pd.crosstab(df[i], df['readmitted'])\n",
    "        stat, p, dof, exp = stats.chi2_contingency(ct)\n",
    "    p_val.append(p)\n",
    "    if p < 0.05:\n",
    "        sig.append('Significant')\n",
    "    else:\n",
    "        sig.append(\"Insignificant\")\n",
    "stats_df = pd.DataFrame({\"columns\" : df.columns, \"p_value\" : p_val, \"significance\" : sig})\n",
    "\n",
    "stats_df.sort_values(by='p_value',ascending = True)"
   ]
  },
  {
   "cell_type": "code",
   "execution_count": 196,
   "metadata": {},
   "outputs": [
    {
     "name": "stdout",
     "output_type": "stream",
     "text": [
      "Statiscally significant features are : \n",
      "\n",
      "0                          age\n",
      "1            admission_type_id\n",
      "2     discharge_disposition_id\n",
      "3          admission_source_id\n",
      "4             time_in_hospital\n",
      "5           num_lab_procedures\n",
      "6               num_procedures\n",
      "7              num_medications\n",
      "8                       diag_1\n",
      "9                       diag_2\n",
      "10                      diag_3\n",
      "11            number_diagnoses\n",
      "12               max_glu_serum\n",
      "13                   metformin\n",
      "14                 repaglinide\n",
      "15                 glimepiride\n",
      "16                   glipizide\n",
      "17                pioglitazone\n",
      "18                     insulin\n",
      "19                      change\n",
      "20                 diabetesMed\n",
      "21                  readmitted\n",
      "22       preceding_year_visits\n",
      "23              number_changes\n",
      "24           insulin_treatment\n",
      "Name: columns, dtype: object\n"
     ]
    }
   ],
   "source": [
    "sig_cols = stats_df[stats_df['significance'] == 'Significant']['columns'].reset_index(drop = True)\n",
    "insig_cols = stats_df[stats_df['significance'] == 'Insignificant']['columns'].reset_index(drop = True)\n",
    "print('Statiscally significant features are :','\\n')\n",
    "print(sig_cols)\n",
    "# Drop insignificant columns from the dataframe\n",
    "df = df.drop(columns=insig_cols)"
   ]
  },
  {
   "cell_type": "code",
   "execution_count": 197,
   "metadata": {},
   "outputs": [],
   "source": [
    "#statistically insignificant meds\n",
    "\n",
    "insignificant_meds = ['nateglinide','chlorpropamide','acetohexamide','tolbutamide','acarbose','miglitol',\n",
    "                      'troglitazone','tolazamide','glyburide-metformin','glipizide-metformin',\n",
    "                      'glimepiride-pioglitazone','metformin-pioglitazone','glyburide','rosiglitazone']"
   ]
  },
  {
   "cell_type": "markdown",
   "metadata": {},
   "source": [
    "#### Looking for medicines"
   ]
  },
  {
   "cell_type": "code",
   "execution_count": 198,
   "metadata": {},
   "outputs": [
    {
     "data": {
      "text/plain": [
       "6"
      ]
     },
     "execution_count": 198,
     "metadata": {},
     "output_type": "execute_result"
    }
   ],
   "source": [
    "#looking at meds seperately\n",
    "\n",
    "meds = ['metformin','repaglinide', 'glimepiride', 'glipizide','pioglitazone','insulin']\n",
    "\n",
    "len(meds)"
   ]
  },
  {
   "cell_type": "code",
   "execution_count": 199,
   "metadata": {},
   "outputs": [
    {
     "name": "stdout",
     "output_type": "stream",
     "text": [
      "metformin\n",
      "-2    77697\n",
      " 0    17777\n",
      " 1     1035\n",
      "-1      561\n",
      "Name: count, dtype: int64 \n",
      "\n",
      "0.19957762439476667\n",
      "repaglinide\n",
      "-2    95562\n",
      " 0     1359\n",
      " 1      106\n",
      "-1       43\n",
      "Name: count, dtype: int64 \n",
      "\n",
      "0.015535180797362729\n",
      "glimepiride\n",
      "-2    92105\n",
      " 0     4466\n",
      " 1      316\n",
      "-1      183\n",
      "Name: count, dtype: int64 \n",
      "\n",
      "0.051148655609354075\n",
      "glipizide\n",
      "-2    84827\n",
      " 0    10963\n",
      " 1      748\n",
      "-1      532\n",
      "Name: count, dtype: int64 \n",
      "\n",
      "0.12612547646028638\n",
      "pioglitazone\n",
      "-2    89970\n",
      " 0     6758\n",
      " 1      226\n",
      "-1      116\n",
      "Name: count, dtype: int64 \n",
      "\n",
      "0.07314309261357783\n",
      "insulin\n",
      "-2    45487\n",
      " 0    29118\n",
      "-1    11735\n",
      " 1    10730\n",
      "Name: count, dtype: int64 \n",
      "\n",
      "0.5314000206036881\n"
     ]
    }
   ],
   "source": [
    "less_counts = []\n",
    "\n",
    "for i in meds:\n",
    "    print(df[i].value_counts(), '\\n')\n",
    "\n",
    "    vc = df[i].value_counts().values\n",
    "    if vc[1:].sum() / vc[0:].sum() < 0.01:\n",
    "        less_counts.append(i)\n",
    "    else:\n",
    "        print(vc[1:].sum() / vc[0:].sum())"
   ]
  },
  {
   "cell_type": "code",
   "execution_count": 200,
   "metadata": {
    "scrolled": true
   },
   "outputs": [
    {
     "data": {
      "text/plain": [
       "([], 0)"
      ]
     },
     "execution_count": 200,
     "metadata": {},
     "output_type": "execute_result"
    }
   ],
   "source": [
    "less_counts, len(less_counts) "
   ]
  },
  {
   "cell_type": "markdown",
   "metadata": {},
   "source": [
    "We cannot remove a single medicine as they are given more than 1% of the population "
   ]
  },
  {
   "cell_type": "markdown",
   "metadata": {},
   "source": [
    "Change and number change are depicting the same information and both of them are significant,we are dropping one of it based on the fact that number of change is a bit more significant than change.(lessser the pvalue better it is)"
   ]
  },
  {
   "cell_type": "code",
   "execution_count": 201,
   "metadata": {},
   "outputs": [],
   "source": [
    "df = df.drop(['change'],axis=1)"
   ]
  },
  {
   "cell_type": "code",
   "execution_count": 202,
   "metadata": {},
   "outputs": [
    {
     "data": {
      "text/plain": [
       "admission_type_id\n",
       "Emergency        68753\n",
       "Elective         18305\n",
       "Not Available    10012\n",
       "Name: count, dtype: int64"
      ]
     },
     "execution_count": 202,
     "metadata": {},
     "output_type": "execute_result"
    }
   ],
   "source": [
    "df['admission_type_id'].value_counts()"
   ]
  },
  {
   "cell_type": "code",
   "execution_count": 203,
   "metadata": {},
   "outputs": [
    {
     "data": {
      "text/plain": [
       "admission_source_id\n",
       "Emergency                                        55994\n",
       "Referral                                         29712\n",
       "Transferred from another health care facility     5703\n",
       "Not Available                                     5661\n",
       "Name: count, dtype: int64"
      ]
     },
     "execution_count": 203,
     "metadata": {},
     "output_type": "execute_result"
    }
   ],
   "source": [
    "df['admission_source_id'].value_counts()"
   ]
  },
  {
   "cell_type": "markdown",
   "metadata": {},
   "source": [
    "admission sorce id and admission type id are similar as admission type id's details are present in admission source id so we can drop admission type id and just keep admission source id"
   ]
  },
  {
   "cell_type": "code",
   "execution_count": 204,
   "metadata": {},
   "outputs": [],
   "source": [
    "df = df.drop(['admission_type_id'],axis=1)"
   ]
  },
  {
   "cell_type": "code",
   "execution_count": 205,
   "metadata": {},
   "outputs": [
    {
     "data": {
      "text/plain": [
       "(97070, 23)"
      ]
     },
     "execution_count": 205,
     "metadata": {},
     "output_type": "execute_result"
    }
   ],
   "source": [
    "df.shape"
   ]
  },
  {
   "cell_type": "code",
   "execution_count": 206,
   "metadata": {},
   "outputs": [
    {
     "data": {
      "text/plain": [
       "Index(['age', 'discharge_disposition_id', 'admission_source_id',\n",
       "       'time_in_hospital', 'num_lab_procedures', 'num_procedures',\n",
       "       'num_medications', 'diag_1', 'diag_2', 'diag_3', 'number_diagnoses',\n",
       "       'max_glu_serum', 'metformin', 'repaglinide', 'glimepiride', 'glipizide',\n",
       "       'pioglitazone', 'insulin', 'diabetesMed', 'readmitted',\n",
       "       'preceding_year_visits', 'number_changes', 'insulin_treatment'],\n",
       "      dtype='object')"
      ]
     },
     "execution_count": 206,
     "metadata": {},
     "output_type": "execute_result"
    }
   ],
   "source": [
    "df.columns"
   ]
  },
  {
   "cell_type": "markdown",
   "metadata": {},
   "source": [
    "\n",
    "## Multi-Collinearity\n"
   ]
  },
  {
   "cell_type": "code",
   "execution_count": 207,
   "metadata": {},
   "outputs": [
    {
     "data": {
      "image/png": "[encoded data removed]",
      "text/plain": [
       "<Figure size 800x500 with 2 Axes>"
      ]
     },
     "metadata": {},
     "output_type": "display_data"
    }
   ],
   "source": [
    "plt.figure(figsize=(8,5))\n",
    "corr=df[num_cols].corr()\n",
    "sns.heatmap(corr,annot=True,cmap='YlGnBu')\n",
    "b,t=plt.ylim()\n",
    "plt.ylim(b+0.5,t-0.5)\n",
    "plt.show()"
   ]
  },
  {
   "cell_type": "code",
   "execution_count": 208,
   "metadata": {},
   "outputs": [
    {
     "data": {
      "text/html": [
       "<div>\n",
       "<style scoped>\n",
       "    .dataframe tbody tr th:only-of-type {\n",
       "        vertical-align: middle;\n",
       "    }\n",
       "\n",
       "    .dataframe tbody tr th {\n",
       "        vertical-align: top;\n",
       "    }\n",
       "\n",
       "    .dataframe thead th {\n",
       "        text-align: right;\n",
       "    }\n",
       "</style>\n",
       "<table border=\"1\" class=\"dataframe\">\n",
       "  <thead>\n",
       "    <tr style=\"text-align: right;\">\n",
       "      <th></th>\n",
       "      <th>VIF</th>\n",
       "      <th>feature</th>\n",
       "    </tr>\n",
       "  </thead>\n",
       "  <tbody>\n",
       "    <tr>\n",
       "      <th>5</th>\n",
       "      <td>15.085635</td>\n",
       "      <td>number_diagnoses</td>\n",
       "    </tr>\n",
       "    <tr>\n",
       "      <th>0</th>\n",
       "      <td>12.141439</td>\n",
       "      <td>age</td>\n",
       "    </tr>\n",
       "    <tr>\n",
       "      <th>4</th>\n",
       "      <td>7.651632</td>\n",
       "      <td>num_medications</td>\n",
       "    </tr>\n",
       "    <tr>\n",
       "      <th>2</th>\n",
       "      <td>6.101781</td>\n",
       "      <td>num_lab_procedures</td>\n",
       "    </tr>\n",
       "    <tr>\n",
       "      <th>1</th>\n",
       "      <td>4.344960</td>\n",
       "      <td>time_in_hospital</td>\n",
       "    </tr>\n",
       "    <tr>\n",
       "      <th>3</th>\n",
       "      <td>1.926622</td>\n",
       "      <td>num_procedures</td>\n",
       "    </tr>\n",
       "    <tr>\n",
       "      <th>7</th>\n",
       "      <td>1.451683</td>\n",
       "      <td>number_changes</td>\n",
       "    </tr>\n",
       "    <tr>\n",
       "      <th>6</th>\n",
       "      <td>1.320692</td>\n",
       "      <td>preceding_year_visits</td>\n",
       "    </tr>\n",
       "  </tbody>\n",
       "</table>\n",
       "</div>"
      ],
      "text/plain": [
       "         VIF                feature\n",
       "5  15.085635       number_diagnoses\n",
       "0  12.141439                    age\n",
       "4   7.651632        num_medications\n",
       "2   6.101781     num_lab_procedures\n",
       "1   4.344960       time_in_hospital\n",
       "3   1.926622         num_procedures\n",
       "7   1.451683         number_changes\n",
       "6   1.320692  preceding_year_visits"
      ]
     },
     "execution_count": 208,
     "metadata": {},
     "output_type": "execute_result"
    }
   ],
   "source": [
    "from statsmodels.stats.outliers_influence import variance_inflation_factor\n",
    "vif=pd.DataFrame()\n",
    "vif['VIF']=[variance_inflation_factor(df[num_cols].values,i) for i in range(df[num_cols].shape[1])]\n",
    "vif['feature']=df[num_cols].columns\n",
    "vif=vif.sort_values('VIF',ascending=False)\n",
    "vif"
   ]
  },
  {
   "cell_type": "markdown",
   "metadata": {},
   "source": [
    "As it can be seen from correlation heatmap and vif values that there is high VIF value for number_diagnoses,so i would remove it"
   ]
  },
  {
   "cell_type": "code",
   "execution_count": 209,
   "metadata": {},
   "outputs": [],
   "source": [
    "df.drop(columns=['number_diagnoses'], inplace=True)"
   ]
  },
  {
   "cell_type": "code",
   "execution_count": 210,
   "metadata": {},
   "outputs": [],
   "source": [
    "# Rest of the Eda is done in tableau"
   ]
  },
  {
   "cell_type": "markdown",
   "metadata": {},
   "source": [
    "## Outliers and Skewness\n",
    "\n",
    "### Box-Plots"
   ]
  },
  {
   "cell_type": "code",
   "execution_count": 211,
   "metadata": {},
   "outputs": [
    {
     "data": {
      "image/png": "[encoded data removed]",
      "text/plain": [
       "<Figure size 2500x1000 with 8 Axes>"
      ]
     },
     "metadata": {},
     "output_type": "display_data"
    }
   ],
   "source": [
    "num_cols=num_cols = ['age', 'time_in_hospital', 'num_lab_procedures', 'num_procedures', 'num_medications','preceding_year_visits', 'number_changes']\n",
    "fig,ax=plt.subplots(2,4,figsize=(25,10))\n",
    "ax=ax.flatten()\n",
    "j=0\n",
    "for i in num_cols:    \n",
    "    sns.boxplot(df[i],ax=ax[j]) \n",
    "    j=j+1\n",
    "plt.show()"
   ]
  },
  {
   "cell_type": "code",
   "execution_count": 212,
   "metadata": {},
   "outputs": [
    {
     "data": {
      "image/png": "[encoded data removed]",
      "text/plain": [
       "<Figure size 2500x1000 with 8 Axes>"
      ]
     },
     "metadata": {},
     "output_type": "display_data"
    }
   ],
   "source": [
    "fig,ax=plt.subplots(2,4,figsize=(25,10))\n",
    "ax=ax.flatten()\n",
    "j=0\n",
    "for i in num_cols:    \n",
    "    sns.kdeplot(df[i],ax=ax[j],shade=True)\n",
    "    plt.rc('legend', fontsize=15) \n",
    "    j=j+1\n",
    "plt.show()"
   ]
  },
  {
   "cell_type": "code",
   "execution_count": 213,
   "metadata": {},
   "outputs": [
    {
     "name": "stdout",
     "output_type": "stream",
     "text": [
      "age 840\n",
      "time_in_hospital 2103\n",
      "num_lab_procedures 119\n",
      "num_procedures 4675\n",
      "num_medications 2382\n",
      "preceding_year_visits 4299\n",
      "number_changes 111\n"
     ]
    }
   ],
   "source": [
    "#Number of outliers\n",
    "for i in num_cols:\n",
    "    q1 = df[i].quantile(0.25)\n",
    "    q3 = df[i].quantile(0.75)\n",
    "    iqr = q3-q1\n",
    "\n",
    "    UL = q3 + (1.5 * iqr)\n",
    "    LL = q1 - (1.5 * iqr)\n",
    "    print(i,df[(df[i]>UL) | (df[i]<LL)].count()[i])\n",
    "    #print(X[(X[i]>UL) | (X[i]<LL)][i])"
   ]
  },
  {
   "cell_type": "markdown",
   "metadata": {},
   "source": [
    "The data is not normally distributed and has few outliers, but we will normalize later"
   ]
  },
  {
   "cell_type": "code",
   "execution_count": 214,
   "metadata": {},
   "outputs": [],
   "source": [
    "# Fill NaN values in the 'max_glu_serum' column with 'None'\n",
    "df['max_glu_serum'].fillna('None', inplace=True)"
   ]
  },
  {
   "cell_type": "code",
   "execution_count": 215,
   "metadata": {},
   "outputs": [
    {
     "data": {
      "text/plain": [
       "age                           int64\n",
       "discharge_disposition_id     object\n",
       "admission_source_id          object\n",
       "time_in_hospital              int64\n",
       "num_lab_procedures            int64\n",
       "num_procedures                int64\n",
       "num_medications               int64\n",
       "diag_1                       object\n",
       "diag_2                       object\n",
       "diag_3                       object\n",
       "max_glu_serum                object\n",
       "metformin                     int64\n",
       "repaglinide                   int64\n",
       "glimepiride                   int64\n",
       "glipizide                     int64\n",
       "pioglitazone                  int64\n",
       "insulin                       int64\n",
       "diabetesMed                   int64\n",
       "readmitted                    int32\n",
       "preceding_year_visits         int64\n",
       "number_changes              float64\n",
       "insulin_treatment            object\n",
       "dtype: object"
      ]
     },
     "execution_count": 215,
     "metadata": {},
     "output_type": "execute_result"
    }
   ],
   "source": [
    "df.dtypes"
   ]
  },
  {
   "cell_type": "code",
   "execution_count": 216,
   "metadata": {},
   "outputs": [],
   "source": [
    "# Identify object columns\n",
    "object_cols = df.select_dtypes(include=['object']).columns"
   ]
  },
  {
   "cell_type": "code",
   "execution_count": 217,
   "metadata": {},
   "outputs": [
    {
     "name": "stderr",
     "output_type": "stream",
     "text": [
      "IOPub data rate exceeded.\n",
      "The Jupyter server will temporarily stop sending output\n",
      "to the client in order to avoid crashing it.\n",
      "To change this limit, set the config variable\n",
      "`--ServerApp.iopub_data_rate_limit`.\n",
      "\n",
      "Current values:\n",
      "ServerApp.iopub_data_rate_limit=1000000.0 (bytes/sec)\n",
      "ServerApp.rate_limit_window=3.0 (secs)\n",
      "\n"
     ]
    }
   ],
   "source": [
    "# Identify object columns\n",
    "object_cols = df.select_dtypes(include=['object']).columns\n",
    "\n",
    "# Initialize the LabelEncoder\n",
    "label_encoder = LabelEncoder()\n",
    "\n",
    "# Encode object columns\n",
    "for col in object_cols:\n",
    "    df[col] = label_encoder.fit_transform(df[col])\n",
    "\n",
    "# Display the DataFrame to verify the changes\n",
    "print(df)"
   ]
  },
  {
   "cell_type": "code",
   "execution_count": 218,
   "metadata": {},
   "outputs": [
    {
     "name": "stdout",
     "output_type": "stream",
     "text": [
      "age                         0\n",
      "discharge_disposition_id    0\n",
      "admission_source_id         0\n",
      "time_in_hospital            0\n",
      "num_lab_procedures          0\n",
      "num_procedures              0\n",
      "num_medications             0\n",
      "diag_1                      0\n",
      "diag_2                      0\n",
      "diag_3                      0\n",
      "max_glu_serum               0\n",
      "metformin                   0\n",
      "repaglinide                 0\n",
      "glimepiride                 0\n",
      "glipizide                   0\n",
      "pioglitazone                0\n",
      "insulin                     0\n",
      "diabetesMed                 0\n",
      "readmitted                  0\n",
      "preceding_year_visits       0\n",
      "number_changes              0\n",
      "insulin_treatment           0\n",
      "dtype: int64\n"
     ]
    }
   ],
   "source": [
    "# Get the count of null values from each column\n",
    "null_counts = df.isnull().sum()\n",
    "\n",
    "# Display the count of null values\n",
    "print(null_counts)\n"
   ]
  },
  {
   "cell_type": "code",
   "execution_count": 219,
   "metadata": {},
   "outputs": [
    {
     "data": {
      "image/png": "[encoded data removed]",
      "text/plain": [
       "<Figure size 800x500 with 2 Axes>"
      ]
     },
     "metadata": {},
     "output_type": "display_data"
    }
   ],
   "source": [
    "plt.figure(figsize=(8,5))\n",
    "corr=df[object_cols].corr()\n",
    "sns.heatmap(corr,annot=True,cmap='YlGnBu')\n",
    "b,t=plt.ylim()\n",
    "plt.ylim(b+0.5,t-0.5)\n",
    "plt.show()"
   ]
  },
  {
   "cell_type": "code",
   "execution_count": 220,
   "metadata": {},
   "outputs": [
    {
     "data": {
      "text/html": [
       "<div>\n",
       "<style scoped>\n",
       "    .dataframe tbody tr th:only-of-type {\n",
       "        vertical-align: middle;\n",
       "    }\n",
       "\n",
       "    .dataframe tbody tr th {\n",
       "        vertical-align: top;\n",
       "    }\n",
       "\n",
       "    .dataframe thead th {\n",
       "        text-align: right;\n",
       "    }\n",
       "</style>\n",
       "<table border=\"1\" class=\"dataframe\">\n",
       "  <thead>\n",
       "    <tr style=\"text-align: right;\">\n",
       "      <th></th>\n",
       "      <th>VIF</th>\n",
       "      <th>feature</th>\n",
       "    </tr>\n",
       "  </thead>\n",
       "  <tbody>\n",
       "    <tr>\n",
       "      <th>5</th>\n",
       "      <td>6.275759</td>\n",
       "      <td>max_glu_serum</td>\n",
       "    </tr>\n",
       "    <tr>\n",
       "      <th>6</th>\n",
       "      <td>2.771576</td>\n",
       "      <td>insulin_treatment</td>\n",
       "    </tr>\n",
       "    <tr>\n",
       "      <th>2</th>\n",
       "      <td>2.413188</td>\n",
       "      <td>diag_1</td>\n",
       "    </tr>\n",
       "    <tr>\n",
       "      <th>3</th>\n",
       "      <td>2.149896</td>\n",
       "      <td>diag_2</td>\n",
       "    </tr>\n",
       "    <tr>\n",
       "      <th>4</th>\n",
       "      <td>2.130574</td>\n",
       "      <td>diag_3</td>\n",
       "    </tr>\n",
       "    <tr>\n",
       "      <th>1</th>\n",
       "      <td>1.638190</td>\n",
       "      <td>admission_source_id</td>\n",
       "    </tr>\n",
       "    <tr>\n",
       "      <th>0</th>\n",
       "      <td>1.432543</td>\n",
       "      <td>discharge_disposition_id</td>\n",
       "    </tr>\n",
       "  </tbody>\n",
       "</table>\n",
       "</div>"
      ],
      "text/plain": [
       "        VIF                   feature\n",
       "5  6.275759             max_glu_serum\n",
       "6  2.771576         insulin_treatment\n",
       "2  2.413188                    diag_1\n",
       "3  2.149896                    diag_2\n",
       "4  2.130574                    diag_3\n",
       "1  1.638190       admission_source_id\n",
       "0  1.432543  discharge_disposition_id"
      ]
     },
     "execution_count": 220,
     "metadata": {},
     "output_type": "execute_result"
    }
   ],
   "source": [
    "from statsmodels.stats.outliers_influence import variance_inflation_factor\n",
    "vif=pd.DataFrame()\n",
    "vif['VIF']=[variance_inflation_factor(df[object_cols].values,i) for i in range(df[object_cols].shape[1])]\n",
    "vif['feature']=df[object_cols].columns\n",
    "vif=vif.sort_values('VIF',ascending=False)\n",
    "vif"
   ]
  },
  {
   "cell_type": "markdown",
   "metadata": {},
   "source": [
    "### Saving the data frame"
   ]
  },
  {
   "cell_type": "code",
   "execution_count": 222,
   "metadata": {},
   "outputs": [
    {
     "data": {
      "text/html": [
       "<div>\n",
       "<style scoped>\n",
       "    .dataframe tbody tr th:only-of-type {\n",
       "        vertical-align: middle;\n",
       "    }\n",
       "\n",
       "    .dataframe tbody tr th {\n",
       "        vertical-align: top;\n",
       "    }\n",
       "\n",
       "    .dataframe thead th {\n",
       "        text-align: right;\n",
       "    }\n",
       "</style>\n",
       "<table border=\"1\" class=\"dataframe\">\n",
       "  <thead>\n",
       "    <tr style=\"text-align: right;\">\n",
       "      <th></th>\n",
       "      <th>age</th>\n",
       "      <th>discharge_disposition_id</th>\n",
       "      <th>admission_source_id</th>\n",
       "      <th>time_in_hospital</th>\n",
       "      <th>num_lab_procedures</th>\n",
       "      <th>num_procedures</th>\n",
       "      <th>num_medications</th>\n",
       "      <th>diag_1</th>\n",
       "      <th>diag_2</th>\n",
       "      <th>diag_3</th>\n",
       "      <th>max_glu_serum</th>\n",
       "      <th>metformin</th>\n",
       "      <th>repaglinide</th>\n",
       "      <th>glimepiride</th>\n",
       "      <th>glipizide</th>\n",
       "      <th>pioglitazone</th>\n",
       "      <th>insulin</th>\n",
       "      <th>diabetesMed</th>\n",
       "      <th>readmitted</th>\n",
       "      <th>preceding_year_visits</th>\n",
       "      <th>number_changes</th>\n",
       "      <th>insulin_treatment</th>\n",
       "    </tr>\n",
       "  </thead>\n",
       "  <tbody>\n",
       "    <tr>\n",
       "      <th>0</th>\n",
       "      <td>5</td>\n",
       "      <td>3</td>\n",
       "      <td>2</td>\n",
       "      <td>1</td>\n",
       "      <td>41</td>\n",
       "      <td>0</td>\n",
       "      <td>1</td>\n",
       "      <td>3</td>\n",
       "      <td>14</td>\n",
       "      <td>14</td>\n",
       "      <td>2</td>\n",
       "      <td>-2</td>\n",
       "      <td>-2</td>\n",
       "      <td>-2</td>\n",
       "      <td>-2</td>\n",
       "      <td>-2</td>\n",
       "      <td>-2</td>\n",
       "      <td>0</td>\n",
       "      <td>0</td>\n",
       "      <td>0</td>\n",
       "      <td>0.0</td>\n",
       "      <td>2</td>\n",
       "    </tr>\n",
       "    <tr>\n",
       "      <th>1</th>\n",
       "      <td>15</td>\n",
       "      <td>0</td>\n",
       "      <td>0</td>\n",
       "      <td>3</td>\n",
       "      <td>59</td>\n",
       "      <td>0</td>\n",
       "      <td>18</td>\n",
       "      <td>5</td>\n",
       "      <td>3</td>\n",
       "      <td>5</td>\n",
       "      <td>2</td>\n",
       "      <td>-2</td>\n",
       "      <td>-2</td>\n",
       "      <td>-2</td>\n",
       "      <td>-2</td>\n",
       "      <td>-2</td>\n",
       "      <td>1</td>\n",
       "      <td>1</td>\n",
       "      <td>0</td>\n",
       "      <td>0</td>\n",
       "      <td>1.0</td>\n",
       "      <td>1</td>\n",
       "    </tr>\n",
       "    <tr>\n",
       "      <th>2</th>\n",
       "      <td>25</td>\n",
       "      <td>0</td>\n",
       "      <td>0</td>\n",
       "      <td>2</td>\n",
       "      <td>11</td>\n",
       "      <td>5</td>\n",
       "      <td>13</td>\n",
       "      <td>15</td>\n",
       "      <td>3</td>\n",
       "      <td>6</td>\n",
       "      <td>2</td>\n",
       "      <td>-2</td>\n",
       "      <td>-2</td>\n",
       "      <td>-2</td>\n",
       "      <td>0</td>\n",
       "      <td>-2</td>\n",
       "      <td>-2</td>\n",
       "      <td>1</td>\n",
       "      <td>0</td>\n",
       "      <td>3</td>\n",
       "      <td>0.0</td>\n",
       "      <td>3</td>\n",
       "    </tr>\n",
       "    <tr>\n",
       "      <th>3</th>\n",
       "      <td>35</td>\n",
       "      <td>0</td>\n",
       "      <td>0</td>\n",
       "      <td>2</td>\n",
       "      <td>44</td>\n",
       "      <td>1</td>\n",
       "      <td>16</td>\n",
       "      <td>8</td>\n",
       "      <td>3</td>\n",
       "      <td>1</td>\n",
       "      <td>2</td>\n",
       "      <td>-2</td>\n",
       "      <td>-2</td>\n",
       "      <td>-2</td>\n",
       "      <td>-2</td>\n",
       "      <td>-2</td>\n",
       "      <td>1</td>\n",
       "      <td>1</td>\n",
       "      <td>0</td>\n",
       "      <td>0</td>\n",
       "      <td>1.0</td>\n",
       "      <td>1</td>\n",
       "    </tr>\n",
       "    <tr>\n",
       "      <th>4</th>\n",
       "      <td>45</td>\n",
       "      <td>0</td>\n",
       "      <td>0</td>\n",
       "      <td>1</td>\n",
       "      <td>51</td>\n",
       "      <td>0</td>\n",
       "      <td>8</td>\n",
       "      <td>12</td>\n",
       "      <td>12</td>\n",
       "      <td>3</td>\n",
       "      <td>2</td>\n",
       "      <td>-2</td>\n",
       "      <td>-2</td>\n",
       "      <td>-2</td>\n",
       "      <td>0</td>\n",
       "      <td>-2</td>\n",
       "      <td>0</td>\n",
       "      <td>1</td>\n",
       "      <td>0</td>\n",
       "      <td>0</td>\n",
       "      <td>0.0</td>\n",
       "      <td>0</td>\n",
       "    </tr>\n",
       "  </tbody>\n",
       "</table>\n",
       "</div>"
      ],
      "text/plain": [
       "   age  discharge_disposition_id  admission_source_id  time_in_hospital  \\\n",
       "0    5                         3                    2                 1   \n",
       "1   15                         0                    0                 3   \n",
       "2   25                         0                    0                 2   \n",
       "3   35                         0                    0                 2   \n",
       "4   45                         0                    0                 1   \n",
       "\n",
       "   num_lab_procedures  num_procedures  num_medications  diag_1  diag_2  \\\n",
       "0                  41               0                1       3      14   \n",
       "1                  59               0               18       5       3   \n",
       "2                  11               5               13      15       3   \n",
       "3                  44               1               16       8       3   \n",
       "4                  51               0                8      12      12   \n",
       "\n",
       "   diag_3  max_glu_serum  metformin  repaglinide  glimepiride  glipizide  \\\n",
       "0      14              2         -2           -2           -2         -2   \n",
       "1       5              2         -2           -2           -2         -2   \n",
       "2       6              2         -2           -2           -2          0   \n",
       "3       1              2         -2           -2           -2         -2   \n",
       "4       3              2         -2           -2           -2          0   \n",
       "\n",
       "   pioglitazone  insulin  diabetesMed  readmitted  preceding_year_visits  \\\n",
       "0            -2       -2            0           0                      0   \n",
       "1            -2        1            1           0                      0   \n",
       "2            -2       -2            1           0                      3   \n",
       "3            -2        1            1           0                      0   \n",
       "4            -2        0            1           0                      0   \n",
       "\n",
       "   number_changes  insulin_treatment  \n",
       "0             0.0                  2  \n",
       "1             1.0                  1  \n",
       "2             0.0                  3  \n",
       "3             1.0                  1  \n",
       "4             0.0                  0  "
      ]
     },
     "execution_count": 222,
     "metadata": {},
     "output_type": "execute_result"
    }
   ],
   "source": [
    "df.head(5)"
   ]
  },
  {
   "cell_type": "code",
   "execution_count": 223,
   "metadata": {},
   "outputs": [],
   "source": [
    "df.to_csv('Data-set-cleaned.csv', index=False)"
   ]
  },
  {
   "cell_type": "code",
   "execution_count": null,
   "metadata": {},
   "outputs": [],
   "source": []
  }
 ],
 "metadata": {
  "kernelspec": {
   "display_name": "Python 3 (ipykernel)",
   "language": "python",
   "name": "python3"
  },
  "language_info": {
   "codemirror_mode": {
    "name": "ipython",
    "version": 3
   },
   "file_extension": ".py",
   "mimetype": "text/x-python",
   "name": "python",
   "nbconvert_exporter": "python",
   "pygments_lexer": "ipython3",
   "version": "3.11.7"
  }
 },
 "nbformat": 4,
 "nbformat_minor": 4
}
